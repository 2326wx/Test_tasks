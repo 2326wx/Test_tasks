{
 "cells": [
  {
   "cell_type": "code",
   "execution_count": null,
   "metadata": {},
   "outputs": [],
   "source": [
    "# define RMSE metric func\n",
    "def RMSE(y_pred, train_data):\n",
    "    y_true = train_data.get_label()\n",
    "    rmse = sqrt(mean_squared_error(y_true, y_pred))\n",
    "    f_name = 'RMSE'\n",
    "    is_higher_better = False\n",
    "    return f_name, rmse, is_higher_better\n",
    "\n",
    "# define RMSE loss func\n",
    "# interesting issue here: https://github.com/dmlc/xgboost/issues/3063 \n",
    "def RMSEobj(preds, train_data): \n",
    "\n",
    "    labels = train_data.get_label()\n",
    "    grad = (preds - labels)/len(labels)\n",
    "    hess = np.ones_like(grad)/len(labels)\n",
    "\n",
    "    return grad, hess"
   ]
  }
 ],
 "metadata": {
  "kernelspec": {
   "display_name": "Python 3",
   "language": "python",
   "name": "python3"
  },
  "language_info": {
   "codemirror_mode": {
    "name": "ipython",
    "version": 3
   },
   "file_extension": ".py",
   "mimetype": "text/x-python",
   "name": "python",
   "nbconvert_exporter": "python",
   "pygments_lexer": "ipython3",
   "version": "3.7.3"
  }
 },
 "nbformat": 4,
 "nbformat_minor": 2
}
