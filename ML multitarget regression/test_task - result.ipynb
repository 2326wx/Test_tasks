{
 "cells": [
  {
   "cell_type": "markdown",
   "metadata": {},
   "source": [
    "#### Описание решения\n",
    "\n",
    "1. Воспроизвел предложенное в задаче решение.\n",
    "2. Провел краткий визуальный анализ данных.\n",
    "3. Установил исходный бейзлайн, без дополнительных фич и без d2.\n",
    "4. Добавил несколько своих новых дискретных фич в рамках условия задачи.\n",
    "5. Затем добавил d2 к полученному датасету и вычислил итоговую RMSE.\n",
    "\n",
    "    Результат: Baseline RMSE: **48.4719** --> Current RMSE: **45.7082**\n",
    "    \n",
    "\n",
    "Комментарии доступны в коде.\n",
    "    \n",
    "    \n",
    "#### Использованные допущения и ограничения\n",
    "- не проводил оптимизацию гиперпараметров и изменений n_estimators для адекватного сравнения добавок от предложенных фич;\n",
    "- использовал стандартную функцию mean_squared_error c параметром squared=False, предварительно сверив с предложеннной в решении rmse(a1, a2);\n",
    "\n",
    "#### Слабые стороны имеющегося решения\n",
    "\n",
    "1. Фича d2 создана из целевых переменных c3...c5. В данном датасете она работает хорошо, но нет гарантии, что модель не впадает в оверфит на этой фиче, и на произвольных данных результаты могут быть плохими.\n",
    "2. Не очень понятно введение отдельной функции для вычисления RMSE - в sklearn есть готовая метрика.\n",
    "3. Использование функции df.loc допустимо только на небольших датасетах, лучше по возможности использовать df.apply\n",
    "\n",
    "#### Что можно сделать еще\n",
    "\n",
    "1. Фича с2 имеет очень большой вес и высокую корреляцию с целевыми столбцами. На ее основе можно было бы создать несколько других и, вероятнее всего, улучшить результат. Но на задачу наложены строгие ограничения по количеству и составу новых фич.\n",
    "2. Есть подозрение, что применение StandardScaler к с1 и с2 существенно улучшит RMSE. Но мы опять упираемся в ограничения исходной задачи.\n",
    "\n",
    "\n",
    "    \n"
   ]
  },
  {
   "cell_type": "markdown",
   "metadata": {},
   "source": [
    "-------------------------------------------------------------------------------------------------------------------------"
   ]
  },
  {
   "cell_type": "markdown",
   "metadata": {
    "id": "ZX7pHlt1ffiz"
   },
   "source": [
    "Младшему исследователю из Вашего отдела дали выполнить задание по дизайну признаков (фич) в новом проекте.\n",
    "Определите слабые стороны этого решения и попробуйте улучшить результат (RMSE).\n",
    "\n",
    "Задача была сформулирована так: придумать такие дискретные фичи (не более 5 фичей, каждая фича имеет не более 5 значений), чтобы максимально точно предсказывать по ним значения c3, c4, c5 из имеющегося датасета.\n",
    "\n",
    "Помимо новых дискретных фич допускается использование c1, c2 и d1 в качестве входных переменных (X)."
   ]
  },
  {
   "cell_type": "code",
   "execution_count": 1,
   "metadata": {
    "id": "XmWMkn6AfgKR"
   },
   "outputs": [],
   "source": [
    "import pandas as pd\n",
    "import numpy as np\n",
    "import matplotlib.pyplot as plt\n",
    "from sklearn.model_selection import train_test_split\n",
    "from sklearn.metrics import mean_squared_error\n",
    "from catboost import CatBoostRegressor"
   ]
  },
  {
   "cell_type": "code",
   "execution_count": 2,
   "metadata": {
    "id": "40tZUBXou3aC"
   },
   "outputs": [
    {
     "data": {
      "text/html": [
       "<div>\n",
       "<style scoped>\n",
       "    .dataframe tbody tr th:only-of-type {\n",
       "        vertical-align: middle;\n",
       "    }\n",
       "\n",
       "    .dataframe tbody tr th {\n",
       "        vertical-align: top;\n",
       "    }\n",
       "\n",
       "    .dataframe thead th {\n",
       "        text-align: right;\n",
       "    }\n",
       "</style>\n",
       "<table border=\"1\" class=\"dataframe\">\n",
       "  <thead>\n",
       "    <tr style=\"text-align: right;\">\n",
       "      <th></th>\n",
       "      <th>c1</th>\n",
       "      <th>c2</th>\n",
       "      <th>c3</th>\n",
       "      <th>c4</th>\n",
       "      <th>c5</th>\n",
       "      <th>d1</th>\n",
       "    </tr>\n",
       "  </thead>\n",
       "  <tbody>\n",
       "    <tr>\n",
       "      <th>0</th>\n",
       "      <td>1702.339676</td>\n",
       "      <td>97.151127</td>\n",
       "      <td>1187.449039</td>\n",
       "      <td>1090.136386</td>\n",
       "      <td>1106.530204</td>\n",
       "      <td>0.0</td>\n",
       "    </tr>\n",
       "    <tr>\n",
       "      <th>1</th>\n",
       "      <td>1667.720643</td>\n",
       "      <td>80.366907</td>\n",
       "      <td>1081.197827</td>\n",
       "      <td>945.367799</td>\n",
       "      <td>1087.782255</td>\n",
       "      <td>1.0</td>\n",
       "    </tr>\n",
       "    <tr>\n",
       "      <th>2</th>\n",
       "      <td>1719.730118</td>\n",
       "      <td>69.581754</td>\n",
       "      <td>967.808030</td>\n",
       "      <td>812.721484</td>\n",
       "      <td>995.881811</td>\n",
       "      <td>0.0</td>\n",
       "    </tr>\n",
       "    <tr>\n",
       "      <th>3</th>\n",
       "      <td>1681.895917</td>\n",
       "      <td>96.473315</td>\n",
       "      <td>1146.784418</td>\n",
       "      <td>1047.934966</td>\n",
       "      <td>1112.788168</td>\n",
       "      <td>0.0</td>\n",
       "    </tr>\n",
       "    <tr>\n",
       "      <th>4</th>\n",
       "      <td>1880.594545</td>\n",
       "      <td>90.238614</td>\n",
       "      <td>1056.165331</td>\n",
       "      <td>909.991794</td>\n",
       "      <td>1021.066083</td>\n",
       "      <td>0.0</td>\n",
       "    </tr>\n",
       "  </tbody>\n",
       "</table>\n",
       "</div>"
      ],
      "text/plain": [
       "            c1         c2           c3           c4           c5   d1\n",
       "0  1702.339676  97.151127  1187.449039  1090.136386  1106.530204  0.0\n",
       "1  1667.720643  80.366907  1081.197827   945.367799  1087.782255  1.0\n",
       "2  1719.730118  69.581754   967.808030   812.721484   995.881811  0.0\n",
       "3  1681.895917  96.473315  1146.784418  1047.934966  1112.788168  0.0\n",
       "4  1880.594545  90.238614  1056.165331   909.991794  1021.066083  0.0"
      ]
     },
     "execution_count": 2,
     "metadata": {},
     "output_type": "execute_result"
    }
   ],
   "source": [
    "df = pd.read_csv('test_data (1).csv', header=0, index_col=0)\n",
    "df.head()"
   ]
  },
  {
   "cell_type": "markdown",
   "metadata": {},
   "source": [
    "### Source reproduction\n",
    "\n",
    "- just reproduce initial task and RMSE here"
   ]
  },
  {
   "cell_type": "code",
   "execution_count": 3,
   "metadata": {
    "id": "HLSl8kN1u3hQ"
   },
   "outputs": [
    {
     "name": "stdout",
     "output_type": "stream",
     "text": [
      "47.61463911502748\n"
     ]
    }
   ],
   "source": [
    "def get_discrete_feature1(df):\n",
    "    if pd.isna(df['c3']) or pd.isna(df['c5']) or pd.isna(df['c4']):\n",
    "        return None\n",
    "    c5 = df['c5']\n",
    "    c3 = df['c3']\n",
    "    c4 = df['c4']\n",
    "    if c3 - c5 >= 92 and c3 - c4 < 230:\n",
    "        return 'cl1'\n",
    "    if c5 - c3 < 92 and c3 - c5 < 92 and c3 - c4 < 230 and c5 - c4 < 250:\n",
    "        return 'cl2'\n",
    "    if c3 - c5 <= 25 and c5 - c3 < 92 and c3 - c4 >= 230:\n",
    "        return 'cl3'\n",
    "    if c5 - c3 >= 92 and c5 - c4 < 230:\n",
    "        return 'cl4'\n",
    "    else:\n",
    "        return 'cl5'\n",
    "    \n",
    "# add categorial features\n",
    "for ind in df.index:\n",
    "    row = df.loc[ind]\n",
    "    df.loc[ind, 'd2'] = get_discrete_feature1(row)\n",
    "df = df.dropna() \n",
    "\n",
    "x_features = ['c1', 'c2', 'd1', 'd2']\n",
    "y_features = ['c3', 'c4', 'c5']\n",
    "\n",
    "train_df, test_df = train_test_split(df, test_size=0.2, random_state=42, shuffle=True)\n",
    "model = CatBoostRegressor(silent=True, loss_function='MultiRMSE').fit(train_df[x_features], \n",
    "                                                                      train_df[y_features], cat_features=[3])\n",
    "def rmse(a1, a2):\n",
    "    diff = (a1 - a2)\n",
    "    return float(np.mean(np.sqrt(np.mean(diff ** 2, axis=0))))\n",
    "\n",
    "pred = np.array(model.predict(test_df[x_features]))\n",
    "print(rmse(pred, test_df[y_features].to_numpy()))"
   ]
  },
  {
   "cell_type": "markdown",
   "metadata": {},
   "source": [
    "#### Comments on initial solution\n",
    "\n",
    "- sub 'get_discrete_feature1' create a data leak: information about target data moves into X dataset in 'd2' feature. This feature shall not be used. Catboost do it by itself with target meaning. \n",
    "- df.loc is better to replace with df.apply\n",
    "- custom RMSE function can be replaced by sklearn.metrics function 'mean_squared_error(pred, test_df[y_features].to_numpy(), squared=False)'\n",
    "\n"
   ]
  },
  {
   "cell_type": "markdown",
   "metadata": {},
   "source": [
    "## Suggested solution"
   ]
  },
  {
   "cell_type": "markdown",
   "metadata": {},
   "source": [
    "### Data analysis"
   ]
  },
  {
   "cell_type": "code",
   "execution_count": 4,
   "metadata": {},
   "outputs": [
    {
     "data": {
      "image/png": "[encoded data removed]",
      "text/plain": [
       "<Figure size 864x864 with 6 Axes>"
      ]
     },
     "metadata": {
      "needs_background": "light"
     },
     "output_type": "display_data"
    }
   ],
   "source": [
    "df = pd.read_csv('test_data (1).csv', header=0, index_col=0)\n",
    "\n",
    "# check data distributions\n",
    "features=['c1', 'c2', 'c3', 'c4', 'c5', 'd1']\n",
    "df[features].hist(figsize=(12, 12));"
   ]
  },
  {
   "cell_type": "code",
   "execution_count": 5,
   "metadata": {},
   "outputs": [
    {
     "data": {
      "image/png": "[encoded data removed]",
      "text/plain": [
       "<Figure size 720x432 with 1 Axes>"
      ]
     },
     "metadata": {
      "needs_background": "light"
     },
     "output_type": "display_data"
    }
   ],
   "source": [
    "(df.c1/df.c2).hist(bins=100, figsize=(10,6));"
   ]
  },
  {
   "cell_type": "code",
   "execution_count": 6,
   "metadata": {
    "id": "3j6JwjlFu3ey"
   },
   "outputs": [
    {
     "data": {
      "text/plain": [
       "c1    0\n",
       "c2    0\n",
       "c3    0\n",
       "c4    1\n",
       "c5    4\n",
       "d1    0\n",
       "dtype: int64"
      ]
     },
     "execution_count": 6,
     "metadata": {},
     "output_type": "execute_result"
    }
   ],
   "source": [
    "# check NaNs\n",
    "np.sum(df.isna())"
   ]
  },
  {
   "cell_type": "code",
   "execution_count": 7,
   "metadata": {},
   "outputs": [
    {
     "data": {
      "text/plain": [
       "[441, 460, 687, 730, 123]"
      ]
     },
     "execution_count": 7,
     "metadata": {},
     "output_type": "execute_result"
    }
   ],
   "source": [
    "# create list of records with NaNs in c4-c5 features\n",
    "nan_recs = df[df.c5.isna()==True].index.tolist()\n",
    "nan_recs.extend(df[df.c4.isna()==True].index.tolist())\n",
    "nan_recs"
   ]
  },
  {
   "cell_type": "markdown",
   "metadata": {},
   "source": [
    "#### Conclusions\n",
    "\n",
    "- NaNs in target features => records [441, 460, 687, 730, 123] shall be dropped from dataset\n",
    "- data skewed a bit, possibly will use log or sqrt before splitting to categories"
   ]
  },
  {
   "cell_type": "markdown",
   "metadata": {},
   "source": [
    "#### Set baseline"
   ]
  },
  {
   "cell_type": "code",
   "execution_count": 8,
   "metadata": {},
   "outputs": [
    {
     "name": "stdout",
     "output_type": "stream",
     "text": [
      "(772, 6)\n"
     ]
    },
    {
     "data": {
      "text/html": [
       "<div>\n",
       "<style scoped>\n",
       "    .dataframe tbody tr th:only-of-type {\n",
       "        vertical-align: middle;\n",
       "    }\n",
       "\n",
       "    .dataframe tbody tr th {\n",
       "        vertical-align: top;\n",
       "    }\n",
       "\n",
       "    .dataframe thead th {\n",
       "        text-align: right;\n",
       "    }\n",
       "</style>\n",
       "<table border=\"1\" class=\"dataframe\">\n",
       "  <thead>\n",
       "    <tr style=\"text-align: right;\">\n",
       "      <th></th>\n",
       "      <th>c1</th>\n",
       "      <th>c2</th>\n",
       "      <th>c3</th>\n",
       "      <th>c4</th>\n",
       "      <th>c5</th>\n",
       "      <th>d1</th>\n",
       "    </tr>\n",
       "  </thead>\n",
       "  <tbody>\n",
       "    <tr>\n",
       "      <th>0</th>\n",
       "      <td>1702.339676</td>\n",
       "      <td>97.151127</td>\n",
       "      <td>1187.449039</td>\n",
       "      <td>1090.136386</td>\n",
       "      <td>1106.530204</td>\n",
       "      <td>0.0</td>\n",
       "    </tr>\n",
       "    <tr>\n",
       "      <th>1</th>\n",
       "      <td>1667.720643</td>\n",
       "      <td>80.366907</td>\n",
       "      <td>1081.197827</td>\n",
       "      <td>945.367799</td>\n",
       "      <td>1087.782255</td>\n",
       "      <td>1.0</td>\n",
       "    </tr>\n",
       "    <tr>\n",
       "      <th>2</th>\n",
       "      <td>1719.730118</td>\n",
       "      <td>69.581754</td>\n",
       "      <td>967.808030</td>\n",
       "      <td>812.721484</td>\n",
       "      <td>995.881811</td>\n",
       "      <td>0.0</td>\n",
       "    </tr>\n",
       "    <tr>\n",
       "      <th>3</th>\n",
       "      <td>1681.895917</td>\n",
       "      <td>96.473315</td>\n",
       "      <td>1146.784418</td>\n",
       "      <td>1047.934966</td>\n",
       "      <td>1112.788168</td>\n",
       "      <td>0.0</td>\n",
       "    </tr>\n",
       "    <tr>\n",
       "      <th>4</th>\n",
       "      <td>1880.594545</td>\n",
       "      <td>90.238614</td>\n",
       "      <td>1056.165331</td>\n",
       "      <td>909.991794</td>\n",
       "      <td>1021.066083</td>\n",
       "      <td>0.0</td>\n",
       "    </tr>\n",
       "  </tbody>\n",
       "</table>\n",
       "</div>"
      ],
      "text/plain": [
       "            c1         c2           c3           c4           c5   d1\n",
       "0  1702.339676  97.151127  1187.449039  1090.136386  1106.530204  0.0\n",
       "1  1667.720643  80.366907  1081.197827   945.367799  1087.782255  1.0\n",
       "2  1719.730118  69.581754   967.808030   812.721484   995.881811  0.0\n",
       "3  1681.895917  96.473315  1146.784418  1047.934966  1112.788168  0.0\n",
       "4  1880.594545  90.238614  1056.165331   909.991794  1021.066083  0.0"
      ]
     },
     "execution_count": 8,
     "metadata": {},
     "output_type": "execute_result"
    }
   ],
   "source": [
    "df = pd.read_csv('test_data (1).csv', header=0, index_col=0)\n",
    "df = df.dropna()\n",
    "print(df.shape)\n",
    "df.head()"
   ]
  },
  {
   "cell_type": "code",
   "execution_count": 9,
   "metadata": {},
   "outputs": [
    {
     "name": "stdout",
     "output_type": "stream",
     "text": [
      "Baseline RMSE: 48.4719\n"
     ]
    }
   ],
   "source": [
    "x_features = ['c1', 'c2', 'd1']\n",
    "y_features = ['c3', 'c4', 'c5']\n",
    "\n",
    "train_df, test_df = train_test_split(df, test_size=0.2, random_state=42, shuffle=True)\n",
    "model = CatBoostRegressor(silent=True, loss_function='MultiRMSE').fit(train_df[x_features], \n",
    "                                                                      train_df[y_features], cat_features=[])\n",
    "pred = np.array(model.predict(test_df[x_features]))\n",
    "baseline = np.round(mean_squared_error(pred, test_df[y_features].to_numpy(), squared=False),4)\n",
    "print(\"Baseline RMSE: %2.4f\" % mean_squared_error(pred, test_df[y_features].to_numpy(), squared=False))"
   ]
  },
  {
   "cell_type": "code",
   "execution_count": 10,
   "metadata": {
    "id": "yofxFu54IJwO"
   },
   "outputs": [
    {
     "data": {
      "image/png": "[encoded data removed]",
      "text/plain": [
       "<Figure size 864x432 with 1 Axes>"
      ]
     },
     "metadata": {
      "needs_background": "light"
     },
     "output_type": "display_data"
    }
   ],
   "source": [
    "ax = pd.DataFrame([model.feature_importances_],columns=x_features).plot(kind='bar', figsize=(12,6), title=\"Features importance\")"
   ]
  },
  {
   "cell_type": "markdown",
   "metadata": {},
   "source": [
    "#### Feature engineering"
   ]
  },
  {
   "cell_type": "code",
   "execution_count": 11,
   "metadata": {},
   "outputs": [
    {
     "data": {
      "text/html": [
       "<div>\n",
       "<style scoped>\n",
       "    .dataframe tbody tr th:only-of-type {\n",
       "        vertical-align: middle;\n",
       "    }\n",
       "\n",
       "    .dataframe tbody tr th {\n",
       "        vertical-align: top;\n",
       "    }\n",
       "\n",
       "    .dataframe thead th {\n",
       "        text-align: right;\n",
       "    }\n",
       "</style>\n",
       "<table border=\"1\" class=\"dataframe\">\n",
       "  <thead>\n",
       "    <tr style=\"text-align: right;\">\n",
       "      <th></th>\n",
       "      <th>c1</th>\n",
       "      <th>c2</th>\n",
       "      <th>c3</th>\n",
       "      <th>c4</th>\n",
       "      <th>c5</th>\n",
       "      <th>d1</th>\n",
       "      <th>q1</th>\n",
       "      <th>q2</th>\n",
       "      <th>q3</th>\n",
       "      <th>q4</th>\n",
       "    </tr>\n",
       "  </thead>\n",
       "  <tbody>\n",
       "    <tr>\n",
       "      <th>0</th>\n",
       "      <td>1702.339676</td>\n",
       "      <td>97.151127</td>\n",
       "      <td>1187.449039</td>\n",
       "      <td>1090.136386</td>\n",
       "      <td>1106.530204</td>\n",
       "      <td>f</td>\n",
       "      <td>f_f</td>\n",
       "      <td>Q1</td>\n",
       "      <td>Q5</td>\n",
       "      <td>Q5</td>\n",
       "    </tr>\n",
       "    <tr>\n",
       "      <th>1</th>\n",
       "      <td>1667.720643</td>\n",
       "      <td>80.366907</td>\n",
       "      <td>1081.197827</td>\n",
       "      <td>945.367799</td>\n",
       "      <td>1087.782255</td>\n",
       "      <td>t</td>\n",
       "      <td>f_t</td>\n",
       "      <td>Q2</td>\n",
       "      <td>Q4</td>\n",
       "      <td>Q4</td>\n",
       "    </tr>\n",
       "    <tr>\n",
       "      <th>2</th>\n",
       "      <td>1719.730118</td>\n",
       "      <td>69.581754</td>\n",
       "      <td>967.808030</td>\n",
       "      <td>812.721484</td>\n",
       "      <td>995.881811</td>\n",
       "      <td>f</td>\n",
       "      <td>t_f</td>\n",
       "      <td>Q4</td>\n",
       "      <td>Q2</td>\n",
       "      <td>Q2</td>\n",
       "    </tr>\n",
       "    <tr>\n",
       "      <th>3</th>\n",
       "      <td>1681.895917</td>\n",
       "      <td>96.473315</td>\n",
       "      <td>1146.784418</td>\n",
       "      <td>1047.934966</td>\n",
       "      <td>1112.788168</td>\n",
       "      <td>f</td>\n",
       "      <td>f_f</td>\n",
       "      <td>Q1</td>\n",
       "      <td>Q5</td>\n",
       "      <td>Q5</td>\n",
       "    </tr>\n",
       "    <tr>\n",
       "      <th>4</th>\n",
       "      <td>1880.594545</td>\n",
       "      <td>90.238614</td>\n",
       "      <td>1056.165331</td>\n",
       "      <td>909.991794</td>\n",
       "      <td>1021.066083</td>\n",
       "      <td>f</td>\n",
       "      <td>f_f</td>\n",
       "      <td>Q2</td>\n",
       "      <td>Q5</td>\n",
       "      <td>Q5</td>\n",
       "    </tr>\n",
       "  </tbody>\n",
       "</table>\n",
       "</div>"
      ],
      "text/plain": [
       "            c1         c2           c3           c4           c5 d1   q1  q2  \\\n",
       "0  1702.339676  97.151127  1187.449039  1090.136386  1106.530204  f  f_f  Q1   \n",
       "1  1667.720643  80.366907  1081.197827   945.367799  1087.782255  t  f_t  Q2   \n",
       "2  1719.730118  69.581754   967.808030   812.721484   995.881811  f  t_f  Q4   \n",
       "3  1681.895917  96.473315  1146.784418  1047.934966  1112.788168  f  f_f  Q1   \n",
       "4  1880.594545  90.238614  1056.165331   909.991794  1021.066083  f  f_f  Q2   \n",
       "\n",
       "   q3  q4  \n",
       "0  Q5  Q5  \n",
       "1  Q4  Q4  \n",
       "2  Q2  Q2  \n",
       "3  Q5  Q5  \n",
       "4  Q5  Q5  "
      ]
     },
     "execution_count": 11,
     "metadata": {},
     "output_type": "execute_result"
    }
   ],
   "source": [
    "df.d1 = df.d1.apply(lambda x: 'f' if x==0 else 't')\n",
    "\n",
    "quantile_list = [0., .1, .45, .50, .7, 1]\n",
    "q_labels = ['Q1', 'Q2', 'Q3', 'Q4', 'Q5']\n",
    "\n",
    "df['q1'] = (df.c1/df.c2).apply(lambda x: 'f' if x<np.mean((df.c1/df.c2)) else 't')+'_'+df.d1\n",
    "df['q2'] = pd.qcut(df.c1/df.c2, q=quantile_list, labels=q_labels).astype(str)\n",
    "df['q3'] = pd.qcut(np.log(df.c1*df.c2), q=quantile_list, labels=q_labels).astype(str)\n",
    "df['q4'] = pd.qcut(round(df.c2,0), q=quantile_list, labels=q_labels).astype(str)\n",
    "\n",
    "df.head()"
   ]
  },
  {
   "cell_type": "code",
   "execution_count": 12,
   "metadata": {},
   "outputs": [
    {
     "name": "stdout",
     "output_type": "stream",
     "text": [
      "Baseline RMSE: 48.4719\n",
      "Current RMSE: 47.1782\n"
     ]
    },
    {
     "data": {
      "image/png": "[encoded data removed]",
      "text/plain": [
       "<Figure size 864x432 with 1 Axes>"
      ]
     },
     "metadata": {
      "needs_background": "light"
     },
     "output_type": "display_data"
    }
   ],
   "source": [
    "y_features   = ['c3', 'c4', 'c5']\n",
    "num_features = ['c1', 'c2']\n",
    "x_features   = []\n",
    "cat_features = []\n",
    "\n",
    "for c in df.columns:    \n",
    "    if c not in y_features: x_features.append(c)\n",
    "    \n",
    "for i,c in enumerate(x_features):\n",
    "    if c not in num_features: cat_features.append(i)\n",
    "\n",
    "train_df, test_df = train_test_split(df, test_size=0.2, random_state=42, shuffle=True)\n",
    "model = CatBoostRegressor(silent=True, loss_function='MultiRMSE').fit(train_df[x_features], \n",
    "                                                                      train_df[y_features], cat_features=cat_features)\n",
    "pred = np.array(model.predict(test_df[x_features]))\n",
    "print(\"Baseline RMSE: %2.4f\" % baseline)\n",
    "print(\"Current RMSE: %2.4f\" % mean_squared_error(pred, test_df[y_features].to_numpy(), squared=False))\n",
    "ax = pd.DataFrame([model.feature_importances_],columns=x_features).plot(kind='bar', figsize=(12,6), title=\"Features importance\")"
   ]
  },
  {
   "cell_type": "code",
   "execution_count": 13,
   "metadata": {},
   "outputs": [
    {
     "data": {
      "text/html": [
       "<div>\n",
       "<style scoped>\n",
       "    .dataframe tbody tr th:only-of-type {\n",
       "        vertical-align: middle;\n",
       "    }\n",
       "\n",
       "    .dataframe tbody tr th {\n",
       "        vertical-align: top;\n",
       "    }\n",
       "\n",
       "    .dataframe thead th {\n",
       "        text-align: right;\n",
       "    }\n",
       "</style>\n",
       "<table border=\"1\" class=\"dataframe\">\n",
       "  <thead>\n",
       "    <tr style=\"text-align: right;\">\n",
       "      <th></th>\n",
       "      <th>c1</th>\n",
       "      <th>c2</th>\n",
       "      <th>c3</th>\n",
       "      <th>c4</th>\n",
       "      <th>c5</th>\n",
       "      <th>d1</th>\n",
       "      <th>q1</th>\n",
       "      <th>q2</th>\n",
       "      <th>q3</th>\n",
       "      <th>q4</th>\n",
       "      <th>d2</th>\n",
       "    </tr>\n",
       "  </thead>\n",
       "  <tbody>\n",
       "    <tr>\n",
       "      <th>0</th>\n",
       "      <td>1702.339676</td>\n",
       "      <td>97.151127</td>\n",
       "      <td>1187.449039</td>\n",
       "      <td>1090.136386</td>\n",
       "      <td>1106.530204</td>\n",
       "      <td>f</td>\n",
       "      <td>f_f</td>\n",
       "      <td>Q1</td>\n",
       "      <td>Q5</td>\n",
       "      <td>Q5</td>\n",
       "      <td>cl2</td>\n",
       "    </tr>\n",
       "    <tr>\n",
       "      <th>1</th>\n",
       "      <td>1667.720643</td>\n",
       "      <td>80.366907</td>\n",
       "      <td>1081.197827</td>\n",
       "      <td>945.367799</td>\n",
       "      <td>1087.782255</td>\n",
       "      <td>t</td>\n",
       "      <td>f_t</td>\n",
       "      <td>Q2</td>\n",
       "      <td>Q4</td>\n",
       "      <td>Q4</td>\n",
       "      <td>cl2</td>\n",
       "    </tr>\n",
       "    <tr>\n",
       "      <th>2</th>\n",
       "      <td>1719.730118</td>\n",
       "      <td>69.581754</td>\n",
       "      <td>967.808030</td>\n",
       "      <td>812.721484</td>\n",
       "      <td>995.881811</td>\n",
       "      <td>f</td>\n",
       "      <td>t_f</td>\n",
       "      <td>Q4</td>\n",
       "      <td>Q2</td>\n",
       "      <td>Q2</td>\n",
       "      <td>cl2</td>\n",
       "    </tr>\n",
       "    <tr>\n",
       "      <th>3</th>\n",
       "      <td>1681.895917</td>\n",
       "      <td>96.473315</td>\n",
       "      <td>1146.784418</td>\n",
       "      <td>1047.934966</td>\n",
       "      <td>1112.788168</td>\n",
       "      <td>f</td>\n",
       "      <td>f_f</td>\n",
       "      <td>Q1</td>\n",
       "      <td>Q5</td>\n",
       "      <td>Q5</td>\n",
       "      <td>cl2</td>\n",
       "    </tr>\n",
       "    <tr>\n",
       "      <th>4</th>\n",
       "      <td>1880.594545</td>\n",
       "      <td>90.238614</td>\n",
       "      <td>1056.165331</td>\n",
       "      <td>909.991794</td>\n",
       "      <td>1021.066083</td>\n",
       "      <td>f</td>\n",
       "      <td>f_f</td>\n",
       "      <td>Q2</td>\n",
       "      <td>Q5</td>\n",
       "      <td>Q5</td>\n",
       "      <td>cl2</td>\n",
       "    </tr>\n",
       "    <tr>\n",
       "      <th>...</th>\n",
       "      <td>...</td>\n",
       "      <td>...</td>\n",
       "      <td>...</td>\n",
       "      <td>...</td>\n",
       "      <td>...</td>\n",
       "      <td>...</td>\n",
       "      <td>...</td>\n",
       "      <td>...</td>\n",
       "      <td>...</td>\n",
       "      <td>...</td>\n",
       "      <td>...</td>\n",
       "    </tr>\n",
       "    <tr>\n",
       "      <th>772</th>\n",
       "      <td>1630.241487</td>\n",
       "      <td>59.990761</td>\n",
       "      <td>847.202994</td>\n",
       "      <td>823.506819</td>\n",
       "      <td>990.289583</td>\n",
       "      <td>t</td>\n",
       "      <td>t_t</td>\n",
       "      <td>Q5</td>\n",
       "      <td>Q2</td>\n",
       "      <td>Q2</td>\n",
       "      <td>cl4</td>\n",
       "    </tr>\n",
       "    <tr>\n",
       "      <th>773</th>\n",
       "      <td>1693.725223</td>\n",
       "      <td>88.109343</td>\n",
       "      <td>1076.182680</td>\n",
       "      <td>955.658598</td>\n",
       "      <td>1208.467438</td>\n",
       "      <td>t</td>\n",
       "      <td>f_t</td>\n",
       "      <td>Q2</td>\n",
       "      <td>Q5</td>\n",
       "      <td>Q5</td>\n",
       "      <td>cl5</td>\n",
       "    </tr>\n",
       "    <tr>\n",
       "      <th>774</th>\n",
       "      <td>1911.658458</td>\n",
       "      <td>84.421679</td>\n",
       "      <td>1014.765775</td>\n",
       "      <td>915.530432</td>\n",
       "      <td>1044.422575</td>\n",
       "      <td>f</td>\n",
       "      <td>f_f</td>\n",
       "      <td>Q2</td>\n",
       "      <td>Q5</td>\n",
       "      <td>Q5</td>\n",
       "      <td>cl2</td>\n",
       "    </tr>\n",
       "    <tr>\n",
       "      <th>775</th>\n",
       "      <td>1951.382558</td>\n",
       "      <td>75.296976</td>\n",
       "      <td>963.907047</td>\n",
       "      <td>873.414881</td>\n",
       "      <td>992.615990</td>\n",
       "      <td>f</td>\n",
       "      <td>t_f</td>\n",
       "      <td>Q4</td>\n",
       "      <td>Q5</td>\n",
       "      <td>Q4</td>\n",
       "      <td>cl2</td>\n",
       "    </tr>\n",
       "    <tr>\n",
       "      <th>776</th>\n",
       "      <td>1719.123619</td>\n",
       "      <td>92.684080</td>\n",
       "      <td>1084.894886</td>\n",
       "      <td>949.292456</td>\n",
       "      <td>1065.681579</td>\n",
       "      <td>f</td>\n",
       "      <td>f_f</td>\n",
       "      <td>Q2</td>\n",
       "      <td>Q5</td>\n",
       "      <td>Q5</td>\n",
       "      <td>cl2</td>\n",
       "    </tr>\n",
       "  </tbody>\n",
       "</table>\n",
       "<p>772 rows × 11 columns</p>\n",
       "</div>"
      ],
      "text/plain": [
       "              c1         c2           c3           c4           c5 d1   q1  \\\n",
       "0    1702.339676  97.151127  1187.449039  1090.136386  1106.530204  f  f_f   \n",
       "1    1667.720643  80.366907  1081.197827   945.367799  1087.782255  t  f_t   \n",
       "2    1719.730118  69.581754   967.808030   812.721484   995.881811  f  t_f   \n",
       "3    1681.895917  96.473315  1146.784418  1047.934966  1112.788168  f  f_f   \n",
       "4    1880.594545  90.238614  1056.165331   909.991794  1021.066083  f  f_f   \n",
       "..           ...        ...          ...          ...          ... ..  ...   \n",
       "772  1630.241487  59.990761   847.202994   823.506819   990.289583  t  t_t   \n",
       "773  1693.725223  88.109343  1076.182680   955.658598  1208.467438  t  f_t   \n",
       "774  1911.658458  84.421679  1014.765775   915.530432  1044.422575  f  f_f   \n",
       "775  1951.382558  75.296976   963.907047   873.414881   992.615990  f  t_f   \n",
       "776  1719.123619  92.684080  1084.894886   949.292456  1065.681579  f  f_f   \n",
       "\n",
       "     q2  q3  q4   d2  \n",
       "0    Q1  Q5  Q5  cl2  \n",
       "1    Q2  Q4  Q4  cl2  \n",
       "2    Q4  Q2  Q2  cl2  \n",
       "3    Q1  Q5  Q5  cl2  \n",
       "4    Q2  Q5  Q5  cl2  \n",
       "..   ..  ..  ..  ...  \n",
       "772  Q5  Q2  Q2  cl4  \n",
       "773  Q2  Q5  Q5  cl5  \n",
       "774  Q2  Q5  Q5  cl2  \n",
       "775  Q4  Q5  Q4  cl2  \n",
       "776  Q2  Q5  Q5  cl2  \n",
       "\n",
       "[772 rows x 11 columns]"
      ]
     },
     "execution_count": 13,
     "metadata": {},
     "output_type": "execute_result"
    }
   ],
   "source": [
    "# now add d2 feature as in initial task\n",
    "\n",
    "for ind in df.index:\n",
    "    row = df.loc[ind]\n",
    "    df.loc[ind, 'd2'] = get_discrete_feature1(row)\n",
    "df"
   ]
  },
  {
   "cell_type": "code",
   "execution_count": 14,
   "metadata": {},
   "outputs": [
    {
     "name": "stdout",
     "output_type": "stream",
     "text": [
      "Baseline RMSE: 48.4719\n",
      "Current RMSE: 45.7082\n"
     ]
    },
    {
     "data": {
      "image/png": "[encoded data removed]",
      "text/plain": [
       "<Figure size 864x432 with 1 Axes>"
      ]
     },
     "metadata": {
      "needs_background": "light"
     },
     "output_type": "display_data"
    }
   ],
   "source": [
    "y_features   = ['c3', 'c4', 'c5']\n",
    "num_features = ['c1', 'c2']\n",
    "x_features   = []\n",
    "cat_features = []\n",
    "\n",
    "for c in df.columns:    \n",
    "    if c not in y_features: x_features.append(c)\n",
    "    \n",
    "for i,c in enumerate(x_features):\n",
    "    if c not in num_features: cat_features.append(i)\n",
    "\n",
    "train_df, test_df = train_test_split(df, test_size=0.2, random_state=42, shuffle=True)\n",
    "model = CatBoostRegressor(silent=True, loss_function='MultiRMSE').fit(train_df[x_features], \n",
    "                                                                      train_df[y_features], cat_features=cat_features)\n",
    "pred = np.array(model.predict(test_df[x_features]))\n",
    "print(\"Baseline RMSE: %2.4f\" % baseline)\n",
    "print(\"Current RMSE: %2.4f\" % mean_squared_error(pred, test_df[y_features].to_numpy(), squared=False))\n",
    "ax = pd.DataFrame([model.feature_importances_],columns=x_features).plot(kind='bar', figsize=(12,6), title=\"Features importance\")"
   ]
  }
 ],
 "metadata": {
  "colab": {
   "authorship_tag": "ABX9TyOuuR2vwcXj8AoUFdUlSol/",
   "collapsed_sections": [],
   "name": "texel_test_task.ipynb",
   "provenance": []
  },
  "kernelspec": {
   "display_name": "Python 3",
   "language": "python",
   "name": "python3"
  },
  "language_info": {
   "codemirror_mode": {
    "name": "ipython",
    "version": 3
   },
   "file_extension": ".py",
   "mimetype": "text/x-python",
   "name": "python",
   "nbconvert_exporter": "python",
   "pygments_lexer": "ipython3",
   "version": "3.7.4"
  }
 },
 "nbformat": 4,
 "nbformat_minor": 1
}
