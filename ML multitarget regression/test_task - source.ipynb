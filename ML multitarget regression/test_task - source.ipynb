{
 "cells": [
  {
   "cell_type": "markdown",
   "metadata": {
    "id": "ZX7pHlt1ffiz"
   },
   "source": [
    "Младшему исследователю из Вашего отдела дали выполнить задание по дизайну признаков (фич) в новом проекте.\n",
    "Определите слабые стороны этого решения и попробуйте улучшить результат (RMSE).\n",
    "\n",
    "Задача была сформулирована так: придумать такие дискретные фичи (не более 5 фичей, каждая фича имеет не более 5 значений), чтобы максимально точно предсказывать по ним значения c3, c4, c5 из имеющегося датасета.\n",
    "\n",
    "Помимо новых дискретных фич допускается использование c1, c2 и d1 в качестве входных переменных (X)."
   ]
  },
  {
   "cell_type": "code",
   "execution_count": null,
   "metadata": {
    "id": "XmWMkn6AfgKR"
   },
   "outputs": [],
   "source": [
    "import pandas as pd\n",
    "import numpy as np"
   ]
  },
  {
   "cell_type": "code",
   "execution_count": null,
   "metadata": {
    "id": "40tZUBXou3aC"
   },
   "outputs": [],
   "source": [
    "df = pd.read_csv('test_data.csv', header=0, index_col=0)"
   ]
  },
  {
   "cell_type": "code",
   "execution_count": null,
   "metadata": {
    "colab": {
     "base_uri": "https://localhost:8080/",
     "height": 199
    },
    "executionInfo": {
     "elapsed": 1029,
     "status": "ok",
     "timestamp": 1607719316318,
     "user": {
      "displayName": "Oleg",
      "photoUrl": "",
      "userId": "08226370370335703451"
     },
     "user_tz": -180
    },
    "id": "3_g3roJAu3cc",
    "outputId": "cc8019f9-5939-423d-9a68-40af23bcdc2a"
   },
   "outputs": [
    {
     "data": {
      "text/html": [
       "<div>\n",
       "<style scoped>\n",
       "    .dataframe tbody tr th:only-of-type {\n",
       "        vertical-align: middle;\n",
       "    }\n",
       "\n",
       "    .dataframe tbody tr th {\n",
       "        vertical-align: top;\n",
       "    }\n",
       "\n",
       "    .dataframe thead th {\n",
       "        text-align: right;\n",
       "    }\n",
       "</style>\n",
       "<table border=\"1\" class=\"dataframe\">\n",
       "  <thead>\n",
       "    <tr style=\"text-align: right;\">\n",
       "      <th></th>\n",
       "      <th>c1</th>\n",
       "      <th>c2</th>\n",
       "      <th>c3</th>\n",
       "      <th>c4</th>\n",
       "      <th>c5</th>\n",
       "      <th>d1</th>\n",
       "    </tr>\n",
       "  </thead>\n",
       "  <tbody>\n",
       "    <tr>\n",
       "      <th>0</th>\n",
       "      <td>1702.339676</td>\n",
       "      <td>97.151127</td>\n",
       "      <td>1187.449039</td>\n",
       "      <td>1090.136386</td>\n",
       "      <td>1106.530204</td>\n",
       "      <td>0.0</td>\n",
       "    </tr>\n",
       "    <tr>\n",
       "      <th>1</th>\n",
       "      <td>1667.720643</td>\n",
       "      <td>80.366907</td>\n",
       "      <td>1081.197827</td>\n",
       "      <td>945.367799</td>\n",
       "      <td>1087.782255</td>\n",
       "      <td>1.0</td>\n",
       "    </tr>\n",
       "    <tr>\n",
       "      <th>2</th>\n",
       "      <td>1719.730118</td>\n",
       "      <td>69.581754</td>\n",
       "      <td>967.808030</td>\n",
       "      <td>812.721484</td>\n",
       "      <td>995.881811</td>\n",
       "      <td>0.0</td>\n",
       "    </tr>\n",
       "    <tr>\n",
       "      <th>3</th>\n",
       "      <td>1681.895917</td>\n",
       "      <td>96.473315</td>\n",
       "      <td>1146.784418</td>\n",
       "      <td>1047.934966</td>\n",
       "      <td>1112.788168</td>\n",
       "      <td>0.0</td>\n",
       "    </tr>\n",
       "    <tr>\n",
       "      <th>4</th>\n",
       "      <td>1880.594545</td>\n",
       "      <td>90.238614</td>\n",
       "      <td>1056.165331</td>\n",
       "      <td>909.991794</td>\n",
       "      <td>1021.066083</td>\n",
       "      <td>0.0</td>\n",
       "    </tr>\n",
       "  </tbody>\n",
       "</table>\n",
       "</div>"
      ],
      "text/plain": [
       "            c1         c2           c3           c4           c5   d1\n",
       "0  1702.339676  97.151127  1187.449039  1090.136386  1106.530204  0.0\n",
       "1  1667.720643  80.366907  1081.197827   945.367799  1087.782255  1.0\n",
       "2  1719.730118  69.581754   967.808030   812.721484   995.881811  0.0\n",
       "3  1681.895917  96.473315  1146.784418  1047.934966  1112.788168  0.0\n",
       "4  1880.594545  90.238614  1056.165331   909.991794  1021.066083  0.0"
      ]
     },
     "execution_count": 16,
     "metadata": {
      "tags": []
     },
     "output_type": "execute_result"
    }
   ],
   "source": [
    "df.head()"
   ]
  },
  {
   "cell_type": "code",
   "execution_count": null,
   "metadata": {
    "id": "3j6JwjlFu3ey"
   },
   "outputs": [],
   "source": []
  },
  {
   "cell_type": "code",
   "execution_count": null,
   "metadata": {
    "id": "HLSl8kN1u3hQ"
   },
   "outputs": [],
   "source": [
    "def get_discrete_feature1(df):\n",
    "    if pd.isna(df['c3']) or pd.isna(df['c5']) or pd.isna(df['c4']):\n",
    "        return None\n",
    "\n",
    "    c5 = df['c5']\n",
    "    c3 = df['c3']\n",
    "    c4 = df['c4']\n",
    "\n",
    "    if c3 - c5 >= 92 and c3 - c4 < 230:\n",
    "        return 'cl1'\n",
    "\n",
    "    if c5 - c3 < 92 and c3 - c5 < 92 and c3 - c4 < 230 and c5 - c4 < 250:\n",
    "        return 'cl2'\n",
    "\n",
    "    if c3 - c5 <= 25 and c5 - c3 < 92 and c3 - c4 >= 230:\n",
    "        return 'cl3'\n",
    "\n",
    "    if c5 - c3 >= 92 and c5 - c4 < 230:\n",
    "        return 'cl4'\n",
    "\n",
    "    else:\n",
    "        return 'cl5'"
   ]
  },
  {
   "cell_type": "code",
   "execution_count": null,
   "metadata": {
    "id": "p56IWk77u3jr"
   },
   "outputs": [],
   "source": []
  },
  {
   "cell_type": "code",
   "execution_count": null,
   "metadata": {
    "id": "PPcdNIViu3mC"
   },
   "outputs": [],
   "source": [
    "# add categorial features\n",
    "for ind in df.index:\n",
    "    row = df.loc[ind]\n",
    "    df.loc[ind, 'd2'] = get_discrete_feature1(row)\n",
    "df = df.dropna()  "
   ]
  },
  {
   "cell_type": "code",
   "execution_count": null,
   "metadata": {
    "colab": {
     "base_uri": "https://localhost:8080/",
     "height": 199
    },
    "executionInfo": {
     "elapsed": 1343,
     "status": "ok",
     "timestamp": 1607719318564,
     "user": {
      "displayName": "Oleg",
      "photoUrl": "",
      "userId": "08226370370335703451"
     },
     "user_tz": -180
    },
    "id": "sYvqO6LLu3oo",
    "outputId": "804e90d8-c8c8-423b-f21f-20fa48826a8f"
   },
   "outputs": [
    {
     "data": {
      "text/html": [
       "<div>\n",
       "<style scoped>\n",
       "    .dataframe tbody tr th:only-of-type {\n",
       "        vertical-align: middle;\n",
       "    }\n",
       "\n",
       "    .dataframe tbody tr th {\n",
       "        vertical-align: top;\n",
       "    }\n",
       "\n",
       "    .dataframe thead th {\n",
       "        text-align: right;\n",
       "    }\n",
       "</style>\n",
       "<table border=\"1\" class=\"dataframe\">\n",
       "  <thead>\n",
       "    <tr style=\"text-align: right;\">\n",
       "      <th></th>\n",
       "      <th>c1</th>\n",
       "      <th>c2</th>\n",
       "      <th>c3</th>\n",
       "      <th>c4</th>\n",
       "      <th>c5</th>\n",
       "      <th>d1</th>\n",
       "      <th>d2</th>\n",
       "    </tr>\n",
       "  </thead>\n",
       "  <tbody>\n",
       "    <tr>\n",
       "      <th>0</th>\n",
       "      <td>1702.339676</td>\n",
       "      <td>97.151127</td>\n",
       "      <td>1187.449039</td>\n",
       "      <td>1090.136386</td>\n",
       "      <td>1106.530204</td>\n",
       "      <td>0.0</td>\n",
       "      <td>cl2</td>\n",
       "    </tr>\n",
       "    <tr>\n",
       "      <th>1</th>\n",
       "      <td>1667.720643</td>\n",
       "      <td>80.366907</td>\n",
       "      <td>1081.197827</td>\n",
       "      <td>945.367799</td>\n",
       "      <td>1087.782255</td>\n",
       "      <td>1.0</td>\n",
       "      <td>cl2</td>\n",
       "    </tr>\n",
       "    <tr>\n",
       "      <th>2</th>\n",
       "      <td>1719.730118</td>\n",
       "      <td>69.581754</td>\n",
       "      <td>967.808030</td>\n",
       "      <td>812.721484</td>\n",
       "      <td>995.881811</td>\n",
       "      <td>0.0</td>\n",
       "      <td>cl2</td>\n",
       "    </tr>\n",
       "    <tr>\n",
       "      <th>3</th>\n",
       "      <td>1681.895917</td>\n",
       "      <td>96.473315</td>\n",
       "      <td>1146.784418</td>\n",
       "      <td>1047.934966</td>\n",
       "      <td>1112.788168</td>\n",
       "      <td>0.0</td>\n",
       "      <td>cl2</td>\n",
       "    </tr>\n",
       "    <tr>\n",
       "      <th>4</th>\n",
       "      <td>1880.594545</td>\n",
       "      <td>90.238614</td>\n",
       "      <td>1056.165331</td>\n",
       "      <td>909.991794</td>\n",
       "      <td>1021.066083</td>\n",
       "      <td>0.0</td>\n",
       "      <td>cl2</td>\n",
       "    </tr>\n",
       "  </tbody>\n",
       "</table>\n",
       "</div>"
      ],
      "text/plain": [
       "            c1         c2           c3           c4           c5   d1   d2\n",
       "0  1702.339676  97.151127  1187.449039  1090.136386  1106.530204  0.0  cl2\n",
       "1  1667.720643  80.366907  1081.197827   945.367799  1087.782255  1.0  cl2\n",
       "2  1719.730118  69.581754   967.808030   812.721484   995.881811  0.0  cl2\n",
       "3  1681.895917  96.473315  1146.784418  1047.934966  1112.788168  0.0  cl2\n",
       "4  1880.594545  90.238614  1056.165331   909.991794  1021.066083  0.0  cl2"
      ]
     },
     "execution_count": 19,
     "metadata": {
      "tags": []
     },
     "output_type": "execute_result"
    }
   ],
   "source": [
    "df.head()"
   ]
  },
  {
   "cell_type": "code",
   "execution_count": null,
   "metadata": {
    "colab": {
     "base_uri": "https://localhost:8080/",
     "height": 504
    },
    "executionInfo": {
     "elapsed": 1471,
     "status": "ok",
     "timestamp": 1607719318878,
     "user": {
      "displayName": "Oleg",
      "photoUrl": "",
      "userId": "08226370370335703451"
     },
     "user_tz": -180
    },
    "id": "AwMAKjNJu3q5",
    "outputId": "52bb596c-6424-4892-f993-6caf3367b4eb"
   },
   "outputs": [
    {
     "data": {
      "image/png": "[encoded data removed]",
      "text/plain": [
       "<Figure size 1008x576 with 1 Axes>"
      ]
     },
     "metadata": {
      "needs_background": "light",
      "tags": []
     },
     "output_type": "display_data"
    }
   ],
   "source": [
    "ax = df['d2'].value_counts().plot(kind='bar', figsize=(14,8), title=\"Number of each value\")\n"
   ]
  },
  {
   "cell_type": "code",
   "execution_count": null,
   "metadata": {
    "id": "EkMVuH29u3ta"
   },
   "outputs": [],
   "source": [
    "x_features = ['c1', 'c2', 'd1', 'd2']\n",
    "y_features = ['c3', 'c4', 'c5']"
   ]
  },
  {
   "cell_type": "code",
   "execution_count": null,
   "metadata": {
    "id": "VUvBJRdmDdzj"
   },
   "outputs": [],
   "source": [
    "from sklearn.model_selection import train_test_split\n",
    "\n",
    "train_df, test_df = train_test_split(df, test_size=0.2, random_state=42, shuffle=True)"
   ]
  },
  {
   "cell_type": "code",
   "execution_count": null,
   "metadata": {
    "colab": {
     "base_uri": "https://localhost:8080/"
    },
    "executionInfo": {
     "elapsed": 3745,
     "status": "ok",
     "timestamp": 1607719324994,
     "user": {
      "displayName": "Oleg",
      "photoUrl": "",
      "userId": "08226370370335703451"
     },
     "user_tz": -180
    },
    "id": "059wO5KLDd2e",
    "outputId": "e5c9cfbf-fb09-45c7-e900-84c76835202f"
   },
   "outputs": [
    {
     "name": "stdout",
     "output_type": "stream",
     "text": [
      "Requirement already satisfied: catboost in /usr/local/lib/python3.6/dist-packages (0.24.3)\n",
      "Requirement already satisfied: matplotlib in /usr/local/lib/python3.6/dist-packages (from catboost) (3.2.2)\n",
      "Requirement already satisfied: six in /usr/local/lib/python3.6/dist-packages (from catboost) (1.15.0)\n",
      "Requirement already satisfied: pandas>=0.24.0 in /usr/local/lib/python3.6/dist-packages (from catboost) (1.1.5)\n",
      "Requirement already satisfied: plotly in /usr/local/lib/python3.6/dist-packages (from catboost) (4.4.1)\n",
      "Requirement already satisfied: graphviz in /usr/local/lib/python3.6/dist-packages (from catboost) (0.10.1)\n",
      "Requirement already satisfied: numpy>=1.16.0 in /usr/local/lib/python3.6/dist-packages (from catboost) (1.18.5)\n",
      "Requirement already satisfied: scipy in /usr/local/lib/python3.6/dist-packages (from catboost) (1.4.1)\n",
      "Requirement already satisfied: cycler>=0.10 in /usr/local/lib/python3.6/dist-packages (from matplotlib->catboost) (0.10.0)\n",
      "Requirement already satisfied: pyparsing!=2.0.4,!=2.1.2,!=2.1.6,>=2.0.1 in /usr/local/lib/python3.6/dist-packages (from matplotlib->catboost) (2.4.7)\n",
      "Requirement already satisfied: kiwisolver>=1.0.1 in /usr/local/lib/python3.6/dist-packages (from matplotlib->catboost) (1.3.1)\n",
      "Requirement already satisfied: python-dateutil>=2.1 in /usr/local/lib/python3.6/dist-packages (from matplotlib->catboost) (2.8.1)\n",
      "Requirement already satisfied: pytz>=2017.2 in /usr/local/lib/python3.6/dist-packages (from pandas>=0.24.0->catboost) (2018.9)\n",
      "Requirement already satisfied: retrying>=1.3.3 in /usr/local/lib/python3.6/dist-packages (from plotly->catboost) (1.3.3)\n"
     ]
    }
   ],
   "source": [
    "!pip install catboost"
   ]
  },
  {
   "cell_type": "code",
   "execution_count": null,
   "metadata": {
    "id": "2SNbsiLjDd5a"
   },
   "outputs": [],
   "source": [
    "from catboost import CatBoostRegressor\n",
    "\n",
    "model = CatBoostRegressor(silent=True, loss_function='MultiRMSE').fit(train_df[x_features], train_df[y_features], cat_features=[3])"
   ]
  },
  {
   "cell_type": "code",
   "execution_count": null,
   "metadata": {
    "id": "RaLkQw75J6Sk"
   },
   "outputs": [],
   "source": [
    "def rmse(a1, a2):\n",
    "    diff = (a1 - a2)\n",
    "    return float(np.mean(np.sqrt(np.mean(diff ** 2, axis=0))))\n"
   ]
  },
  {
   "cell_type": "code",
   "execution_count": null,
   "metadata": {
    "colab": {
     "base_uri": "https://localhost:8080/"
    },
    "executionInfo": {
     "elapsed": 6630,
     "status": "ok",
     "timestamp": 1607719328589,
     "user": {
      "displayName": "Oleg",
      "photoUrl": "",
      "userId": "08226370370335703451"
     },
     "user_tz": -180
    },
    "id": "6bs8EAL3Dd75",
    "outputId": "edf0e0a5-44b3-4ec2-c458-8419ff25b9cb"
   },
   "outputs": [
    {
     "name": "stdout",
     "output_type": "stream",
     "text": [
      "48.64738840699386\n"
     ]
    }
   ],
   "source": [
    "pred = np.array(model.predict(test_df[x_features]))\n",
    "\n",
    "print(rmse(pred, test_df[y_features].to_numpy()))"
   ]
  },
  {
   "cell_type": "code",
   "execution_count": null,
   "metadata": {
    "id": "yofxFu54IJwO"
   },
   "outputs": [],
   "source": []
  },
  {
   "cell_type": "code",
   "execution_count": null,
   "metadata": {
    "id": "t0W0JNIWIJyh"
   },
   "outputs": [],
   "source": []
  },
  {
   "cell_type": "code",
   "execution_count": null,
   "metadata": {
    "id": "nVH5CWA-IJ0x"
   },
   "outputs": [],
   "source": []
  }
 ],
 "metadata": {
  "colab": {
   "authorship_tag": "ABX9TyOuuR2vwcXj8AoUFdUlSol/",
   "collapsed_sections": [],
   "name": "texel_test_task.ipynb",
   "provenance": []
  },
  "kernelspec": {
   "display_name": "Python 3",
   "language": "python",
   "name": "python3"
  },
  "language_info": {
   "codemirror_mode": {
    "name": "ipython",
    "version": 3
   },
   "file_extension": ".py",
   "mimetype": "text/x-python",
   "name": "python",
   "nbconvert_exporter": "python",
   "pygments_lexer": "ipython3",
   "version": "3.7.4"
  }
 },
 "nbformat": 4,
 "nbformat_minor": 1
}
