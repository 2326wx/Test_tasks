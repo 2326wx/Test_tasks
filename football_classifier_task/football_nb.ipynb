{
 "cells": [
  {
   "cell_type": "code",
   "execution_count": 13,
   "metadata": {},
   "outputs": [],
   "source": [
    "import tensorflow as tf\n",
    "import os\n",
    "from tensorflow.keras import preprocessing\n",
    "from tensorflow.keras.models import Sequential\n",
    "from tensorflow.keras.layers import Conv2D, MaxPooling2D, Convolution2D\n",
    "from tensorflow.keras.layers import Activation, Dropout, Flatten, Dense, BatchNormalization\n",
    "from tensorflow.keras.optimizers import Adam\n",
    "from tensorflow.keras.callbacks import EarlyStopping, ReduceLROnPlateau, ModelCheckpoint\n",
    "from tensorflow.keras.metrics import AUC\n",
    "import pandas as pd\n",
    "from pathlib import Path\n",
    "from tensorflow.keras.preprocessing.image import ImageDataGenerator\n",
    "import matplotlib.pyplot as plt\n",
    "import random\n",
    "import numpy as np\n",
    "from sklearn.metrics import roc_auc_score\n",
    "import requests"
   ]
  },
  {
   "cell_type": "code",
   "execution_count": 14,
   "metadata": {},
   "outputs": [],
   "source": [
    "# config\n",
    "test_p        = 0.1 # тестовая выборка 10%\n",
    "val_p         = 0.2 # валидационная выборка 20%\n",
    "target_size   = (224, 224) # ресайз всех картинок в квадратные\n",
    "batch_size    = 32\n",
    "learning_rate = 1e-4"
   ]
  },
  {
   "cell_type": "markdown",
   "metadata": {
    "heading_collapsed": true
   },
   "source": [
    "### Импорт и организация датасета"
   ]
  },
  {
   "cell_type": "code",
   "execution_count": 3,
   "metadata": {
    "hidden": true
   },
   "outputs": [
    {
     "data": {
      "text/html": [
       "<div>\n",
       "<style scoped>\n",
       "    .dataframe tbody tr th:only-of-type {\n",
       "        vertical-align: middle;\n",
       "    }\n",
       "\n",
       "    .dataframe tbody tr th {\n",
       "        vertical-align: top;\n",
       "    }\n",
       "\n",
       "    .dataframe thead th {\n",
       "        text-align: right;\n",
       "    }\n",
       "</style>\n",
       "<table border=\"1\" class=\"dataframe\">\n",
       "  <thead>\n",
       "    <tr style=\"text-align: right;\">\n",
       "      <th></th>\n",
       "      <th>boxid</th>\n",
       "      <th>label</th>\n",
       "      <th>class_</th>\n",
       "    </tr>\n",
       "  </thead>\n",
       "  <tbody>\n",
       "    <tr>\n",
       "      <th>0</th>\n",
       "      <td>40498</td>\n",
       "      <td>1</td>\n",
       "      <td>B48</td>\n",
       "    </tr>\n",
       "    <tr>\n",
       "      <th>1</th>\n",
       "      <td>24303</td>\n",
       "      <td>1</td>\n",
       "      <td>B48</td>\n",
       "    </tr>\n",
       "    <tr>\n",
       "      <th>2</th>\n",
       "      <td>48328</td>\n",
       "      <td>1</td>\n",
       "      <td>B48</td>\n",
       "    </tr>\n",
       "    <tr>\n",
       "      <th>3</th>\n",
       "      <td>13981</td>\n",
       "      <td>1</td>\n",
       "      <td>B48</td>\n",
       "    </tr>\n",
       "    <tr>\n",
       "      <th>4</th>\n",
       "      <td>19874</td>\n",
       "      <td>1</td>\n",
       "      <td>B48</td>\n",
       "    </tr>\n",
       "  </tbody>\n",
       "</table>\n",
       "</div>"
      ],
      "text/plain": [
       "   boxid  label class_\n",
       "0  40498      1    B48\n",
       "1  24303      1    B48\n",
       "2  48328      1    B48\n",
       "3  13981      1    B48\n",
       "4  19874      1    B48"
      ]
     },
     "execution_count": 3,
     "metadata": {},
     "output_type": "execute_result"
    }
   ],
   "source": [
    "labels = pd.read_csv('images_labelling.csv')\n",
    "labels.head()"
   ]
  },
  {
   "cell_type": "code",
   "execution_count": 4,
   "metadata": {
    "hidden": true
   },
   "outputs": [],
   "source": [
    "df = labels.drop_duplicates(subset=['label'])"
   ]
  },
  {
   "cell_type": "code",
   "execution_count": 19,
   "metadata": {
    "hidden": true
   },
   "outputs": [
    {
     "data": {
      "text/plain": [
       "(array([1], dtype=int64), array(['B48'], dtype=object))"
      ]
     },
     "execution_count": 19,
     "metadata": {},
     "output_type": "execute_result"
    }
   ],
   "source": [
    "df[['label','class_']][df.label==1].label.values, df[['label','class_']][df.label==1].class_.values"
   ]
  },
  {
   "cell_type": "code",
   "execution_count": 4,
   "metadata": {
    "hidden": true
   },
   "outputs": [],
   "source": [
    "# create classes folders\n",
    "for i in range(25):\n",
    "    os.mkdir(os.path.join('images', str(i)))\n",
    "\n",
    "# split files to classes directories\n",
    "for fname in os.listdir('images'):\n",
    "    if \".png\" in fname:\n",
    "        box_id = int(fname.split('.')[0])\n",
    "        label = str(labels[labels.boxid==box_id].label.values[0])\n",
    "        Path(os.path.join('images',fname)).rename(os.path.join('images',label,fname))\n",
    "\n",
    "# create train-test-val folder structure\n",
    "for fld in ['train', 'val', 'test']:\n",
    "    os.mkdir(os.path.join('images', fld))\n",
    "    for i in range(25):\n",
    "        os.mkdir(os.path.join('images', fld, str(i)))\n",
    "        \n",
    "# shuffle and relocate files\n",
    "for i in range(25):\n",
    "    files = os.listdir(os.path.join('images',str(i)))\n",
    "    random.shuffle(files)\n",
    "    n_files = len(os.listdir(os.path.join('images',str(i))))\n",
    "    n_test = int(n_files*test_p)\n",
    "    n_val = int(n_files*val_p)\n",
    "    test_files = files[:n_test]\n",
    "    val_files = files[n_test:n_test+n_val]\n",
    "    train_files = files[n_test+n_val:]\n",
    "    for fname in test_files: Path(os.path.join('images',str(i), fname)).rename(os.path.join('images','test', str(i), fname))\n",
    "    for fname in train_files: Path(os.path.join('images',str(i), fname)).rename(os.path.join('images','train', str(i), fname))\n",
    "    for fname in val_files: Path(os.path.join('images',str(i), fname)).rename(os.path.join('images','val', str(i), fname))\n",
    "    os.rmdir(os.path.join('images', str(i)))"
   ]
  },
  {
   "cell_type": "markdown",
   "metadata": {},
   "source": [
    "### Подготовка к обучению"
   ]
  },
  {
   "cell_type": "code",
   "execution_count": 15,
   "metadata": {},
   "outputs": [
    {
     "name": "stdout",
     "output_type": "stream",
     "text": [
      "Found 2625 images belonging to 25 classes.\n",
      "Found 750 images belonging to 25 classes.\n",
      "Found 375 images belonging to 25 classes.\n"
     ]
    }
   ],
   "source": [
    "# batch generators\n",
    "\n",
    "train_datagen = ImageDataGenerator(\n",
    "        rescale=1./255,\n",
    "#         horizontal_flip=True\n",
    ")\n",
    "test_datagen = ImageDataGenerator(rescale=1./255)\n",
    "\n",
    "train_generator = train_datagen.flow_from_directory(\n",
    "        'images/train',\n",
    "        target_size=target_size,\n",
    "        batch_size=batch_size,\n",
    "        class_mode='categorical')\n",
    "validation_generator = test_datagen.flow_from_directory(\n",
    "        'images/val',\n",
    "        target_size=target_size,\n",
    "        batch_size=batch_size,\n",
    "        class_mode='categorical')\n",
    "test_generator = test_datagen.flow_from_directory(\n",
    "        'images/test',\n",
    "        target_size=target_size,\n",
    "        batch_size=1,\n",
    "        class_mode='categorical')"
   ]
  },
  {
   "cell_type": "code",
   "execution_count": 16,
   "metadata": {},
   "outputs": [
    {
     "data": {
      "image/png": "[encoded data removed]",
      "text/plain": [
       "<Figure size 432x288 with 1 Axes>"
      ]
     },
     "metadata": {
      "needs_background": "light"
     },
     "output_type": "display_data"
    }
   ],
   "source": [
    "# check data from generator\n",
    "validation_generator[1][1][0,...]\n",
    "plt.imshow(validation_generator[1][0][0,...]);"
   ]
  },
  {
   "cell_type": "code",
   "execution_count": 17,
   "metadata": {},
   "outputs": [],
   "source": [
    "# define simple model\n",
    "\n",
    "model = Sequential()\n",
    "input_shape = (target_size[0],target_size[0],3)\n",
    "model.add(Convolution2D(32, (3, 3), input_shape=input_shape))\n",
    "model.add(Activation('relu'))\n",
    "model.add(MaxPooling2D(pool_size=(2, 2)))\n",
    "\n",
    "model.add(Convolution2D(32, (3, 3)))\n",
    "model.add(Activation('relu'))\n",
    "model.add(MaxPooling2D(pool_size=(2, 2)))\n",
    "\n",
    "model.add(Convolution2D(64, (3, 3)))\n",
    "model.add(Activation('relu'))\n",
    "model.add(MaxPooling2D(pool_size=(2, 2)))\n",
    "\n",
    "model.add(Flatten())\n",
    "model.add(Dense(64))\n",
    "model.add(Activation('relu'))\n",
    "model.add(Dropout(0.5))\n",
    "model.add(Dense(25))\n",
    "model.add(Activation('sigmoid'))\n",
    "\n",
    "model.compile(loss='categorical_crossentropy',\n",
    "              optimizer=Adam(learning_rate=learning_rate),\n",
    "              metrics=['AUC'])\n",
    "# model.summary()"
   ]
  },
  {
   "cell_type": "markdown",
   "metadata": {},
   "source": [
    "### Обучение"
   ]
  },
  {
   "cell_type": "code",
   "execution_count": 26,
   "metadata": {},
   "outputs": [
    {
     "name": "stdout",
     "output_type": "stream",
     "text": [
      "Epoch 1/100\n",
      "83/83 [==============================] - 14s 164ms/step - loss: 3.1881 - AUC: 0.5618 - val_loss: 3.1108 - val_AUC: 0.6884\n",
      "Epoch 2/100\n",
      "83/83 [==============================] - 12s 143ms/step - loss: 3.0822 - AUC: 0.6510 - val_loss: 2.9807 - val_AUC: 0.7229\n",
      "Epoch 3/100\n",
      "83/83 [==============================] - 12s 142ms/step - loss: 2.9890 - AUC: 0.6809 - val_loss: 2.8589 - val_AUC: 0.7639\n",
      "Epoch 4/100\n",
      "83/83 [==============================] - 12s 143ms/step - loss: 2.9247 - AUC: 0.7074 - val_loss: 2.7898 - val_AUC: 0.7773\n",
      "Epoch 5/100\n",
      "83/83 [==============================] - 12s 144ms/step - loss: 2.8793 - AUC: 0.7215 - val_loss: 2.7086 - val_AUC: 0.7907\n",
      "Epoch 6/100\n",
      "83/83 [==============================] - 12s 144ms/step - loss: 2.8517 - AUC: 0.7298 - val_loss: 2.6716 - val_AUC: 0.8015\n",
      "Epoch 7/100\n",
      "83/83 [==============================] - 12s 144ms/step - loss: 2.8013 - AUC: 0.7426 - val_loss: 2.6445 - val_AUC: 0.8064\n",
      "Epoch 8/100\n",
      "83/83 [==============================] - 12s 144ms/step - loss: 2.7828 - AUC: 0.7552 - val_loss: 2.5918 - val_AUC: 0.8188\n",
      "Epoch 9/100\n",
      "83/83 [==============================] - 12s 142ms/step - loss: 2.7530 - AUC: 0.7633 - val_loss: 2.5399 - val_AUC: 0.8251\n",
      "Epoch 10/100\n",
      "83/83 [==============================] - 12s 144ms/step - loss: 2.7113 - AUC: 0.7725 - val_loss: 2.4970 - val_AUC: 0.8285\n",
      "Epoch 11/100\n",
      "83/83 [==============================] - 12s 144ms/step - loss: 2.6849 - AUC: 0.7780 - val_loss: 2.4725 - val_AUC: 0.8392\n",
      "Epoch 12/100\n",
      "83/83 [==============================] - 12s 143ms/step - loss: 2.6536 - AUC: 0.7885 - val_loss: 2.4265 - val_AUC: 0.8399\n",
      "Epoch 13/100\n",
      "83/83 [==============================] - 12s 143ms/step - loss: 2.6188 - AUC: 0.7967 - val_loss: 2.3832 - val_AUC: 0.8457\n",
      "Epoch 14/100\n",
      "83/83 [==============================] - 12s 143ms/step - loss: 2.5909 - AUC: 0.8026 - val_loss: 2.3095 - val_AUC: 0.8566\n",
      "Epoch 15/100\n",
      "83/83 [==============================] - 12s 144ms/step - loss: 2.5495 - AUC: 0.8124 - val_loss: 2.3212 - val_AUC: 0.8545\n",
      "Epoch 16/100\n",
      "83/83 [==============================] - 12s 143ms/step - loss: 2.5157 - AUC: 0.8179 - val_loss: 2.2648 - val_AUC: 0.8622\n",
      "Epoch 17/100\n",
      "83/83 [==============================] - 12s 144ms/step - loss: 2.4730 - AUC: 0.8236 - val_loss: 2.2333 - val_AUC: 0.8718\n",
      "Epoch 18/100\n",
      "83/83 [==============================] - 12s 144ms/step - loss: 2.4614 - AUC: 0.8294 - val_loss: 2.1837 - val_AUC: 0.8714\n",
      "Epoch 19/100\n",
      "83/83 [==============================] - 12s 144ms/step - loss: 2.4179 - AUC: 0.8350 - val_loss: 2.1777 - val_AUC: 0.8797\n",
      "Epoch 20/100\n",
      "83/83 [==============================] - 12s 144ms/step - loss: 2.4115 - AUC: 0.8384 - val_loss: 2.1308 - val_AUC: 0.8869\n",
      "Epoch 21/100\n",
      "83/83 [==============================] - 12s 145ms/step - loss: 2.3792 - AUC: 0.8436 - val_loss: 2.0943 - val_AUC: 0.8951\n",
      "Epoch 22/100\n",
      "83/83 [==============================] - 12s 148ms/step - loss: 2.3495 - AUC: 0.8470 - val_loss: 2.0892 - val_AUC: 0.9063\n",
      "Epoch 23/100\n",
      "83/83 [==============================] - 12s 144ms/step - loss: 2.2884 - AUC: 0.8632 - val_loss: 1.9862 - val_AUC: 0.9202\n",
      "Epoch 24/100\n",
      "83/83 [==============================] - 12s 139ms/step - loss: 2.3140 - AUC: 0.8626 - val_loss: 1.9949 - val_AUC: 0.9144\n",
      "Epoch 25/100\n",
      "83/83 [==============================] - 12s 150ms/step - loss: 2.2567 - AUC: 0.8722 - val_loss: 1.8762 - val_AUC: 0.9306\n",
      "Epoch 26/100\n",
      "83/83 [==============================] - 13s 151ms/step - loss: 2.1911 - AUC: 0.8794 - val_loss: 1.7926 - val_AUC: 0.9376\n",
      "Epoch 27/100\n",
      "83/83 [==============================] - 12s 143ms/step - loss: 2.1477 - AUC: 0.8868 - val_loss: 1.7760 - val_AUC: 0.9370\n",
      "Epoch 28/100\n",
      "83/83 [==============================] - 12s 143ms/step - loss: 2.1346 - AUC: 0.8890 - val_loss: 1.6924 - val_AUC: 0.9460\n",
      "Epoch 29/100\n",
      "83/83 [==============================] - 12s 144ms/step - loss: 2.0516 - AUC: 0.8972 - val_loss: 1.6173 - val_AUC: 0.9439\n",
      "Epoch 30/100\n",
      "83/83 [==============================] - 12s 145ms/step - loss: 2.0148 - AUC: 0.8993 - val_loss: 1.5828 - val_AUC: 0.9461\n",
      "Epoch 31/100\n",
      "83/83 [==============================] - 11s 137ms/step - loss: 2.0245 - AUC: 0.8981 - val_loss: 1.5737 - val_AUC: 0.9460\n",
      "Epoch 32/100\n",
      "83/83 [==============================] - 12s 150ms/step - loss: 1.9576 - AUC: 0.9050 - val_loss: 1.5494 - val_AUC: 0.9510\n",
      "Epoch 33/100\n",
      "83/83 [==============================] - 12s 144ms/step - loss: 1.9109 - AUC: 0.9052 - val_loss: 1.4952 - val_AUC: 0.9535\n",
      "Epoch 34/100\n",
      "83/83 [==============================] - 12s 145ms/step - loss: 1.9087 - AUC: 0.9081 - val_loss: 1.4576 - val_AUC: 0.9545\n",
      "Epoch 35/100\n",
      "83/83 [==============================] - 12s 144ms/step - loss: 1.8664 - AUC: 0.9122 - val_loss: 1.4181 - val_AUC: 0.9551\n",
      "Epoch 36/100\n",
      "83/83 [==============================] - 12s 144ms/step - loss: 1.8505 - AUC: 0.9127 - val_loss: 1.3951 - val_AUC: 0.9580\n",
      "Epoch 37/100\n",
      "83/83 [==============================] - 12s 145ms/step - loss: 1.8192 - AUC: 0.9148 - val_loss: 1.4291 - val_AUC: 0.9533\n",
      "Epoch 38/100\n",
      "83/83 [==============================] - 12s 144ms/step - loss: 1.7923 - AUC: 0.9177 - val_loss: 1.3738 - val_AUC: 0.9569\n",
      "Epoch 39/100\n",
      "83/83 [==============================] - 11s 138ms/step - loss: 1.7691 - AUC: 0.9174 - val_loss: 1.3472 - val_AUC: 0.9557\n",
      "Epoch 40/100\n",
      "83/83 [==============================] - 12s 144ms/step - loss: 1.7417 - AUC: 0.9203 - val_loss: 1.3219 - val_AUC: 0.9515\n",
      "Epoch 41/100\n",
      "82/83 [============================>.] - ETA: 0s - loss: 1.7258 - AUC: 0.9211\n",
      "Epoch 00041: ReduceLROnPlateau reducing learning rate to 9.999999747378752e-06.\n",
      "83/83 [==============================] - 12s 147ms/step - loss: 1.7257 - AUC: 0.9211 - val_loss: 1.2970 - val_AUC: 0.9580\n",
      "Epoch 42/100\n",
      "83/83 [==============================] - 12s 146ms/step - loss: 1.6911 - AUC: 0.9244 - val_loss: 1.2866 - val_AUC: 0.9565\n",
      "Epoch 43/100\n",
      "83/83 [==============================] - 11s 138ms/step - loss: 1.6663 - AUC: 0.9238 - val_loss: 1.2787 - val_AUC: 0.9595\n",
      "Epoch 44/100\n",
      "83/83 [==============================] - 12s 144ms/step - loss: 1.6564 - AUC: 0.9283 - val_loss: 1.2716 - val_AUC: 0.9600\n",
      "Epoch 45/100\n",
      "83/83 [==============================] - 12s 139ms/step - loss: 1.6790 - AUC: 0.9268 - val_loss: 1.2724 - val_AUC: 0.9599\n",
      "Epoch 46/100\n",
      "83/83 [==============================] - 12s 150ms/step - loss: 1.6643 - AUC: 0.9295 - val_loss: 1.2651 - val_AUC: 0.9602\n",
      "Epoch 47/100\n",
      "83/83 [==============================] - 12s 144ms/step - loss: 1.6380 - AUC: 0.9305 - val_loss: 1.2585 - val_AUC: 0.9601\n",
      "Epoch 48/100\n",
      "83/83 [==============================] - 11s 138ms/step - loss: 1.6244 - AUC: 0.9304 - val_loss: 1.2551 - val_AUC: 0.9603\n",
      "Epoch 49/100\n",
      "83/83 [==============================] - 12s 144ms/step - loss: 1.6203 - AUC: 0.9306 - val_loss: 1.2480 - val_AUC: 0.9603\n",
      "Epoch 50/100\n",
      "83/83 [==============================] - 11s 137ms/step - loss: 1.6500 - AUC: 0.9276 - val_loss: 1.2509 - val_AUC: 0.9604\n",
      "Epoch 51/100\n",
      "83/83 [==============================] - 11s 137ms/step - loss: 1.6533 - AUC: 0.9278 - val_loss: 1.2594 - val_AUC: 0.9601\n",
      "Epoch 52/100\n",
      "83/83 [==============================] - 12s 141ms/step - loss: 1.6652 - AUC: 0.9276 - val_loss: 1.2451 - val_AUC: 0.9610\n",
      "Epoch 53/100\n",
      "83/83 [==============================] - 11s 138ms/step - loss: 1.6335 - AUC: 0.9281 - val_loss: 1.2448 - val_AUC: 0.9605\n",
      "Epoch 54/100\n",
      "83/83 [==============================] - 11s 138ms/step - loss: 1.6118 - AUC: 0.9299 - val_loss: 1.2416 - val_AUC: 0.9603\n",
      "Epoch 55/100\n",
      "83/83 [==============================] - 11s 138ms/step - loss: 1.6530 - AUC: 0.9279 - val_loss: 1.2395 - val_AUC: 0.9605\n",
      "Epoch 56/100\n",
      "83/83 [==============================] - 12s 139ms/step - loss: 1.6120 - AUC: 0.9303 - val_loss: 1.2396 - val_AUC: 0.9611\n",
      "Epoch 57/100\n",
      "83/83 [==============================] - 12s 150ms/step - loss: 1.6002 - AUC: 0.9306 - val_loss: 1.2302 - val_AUC: 0.9608\n",
      "Epoch 58/100\n",
      "83/83 [==============================] - 12s 144ms/step - loss: 1.6127 - AUC: 0.9309 - val_loss: 1.2308 - val_AUC: 0.9612\n",
      "Epoch 59/100\n",
      "83/83 [==============================] - 11s 138ms/step - loss: 1.6258 - AUC: 0.9282 - val_loss: 1.2381 - val_AUC: 0.9605\n",
      "Epoch 60/100\n"
     ]
    },
    {
     "name": "stdout",
     "output_type": "stream",
     "text": [
      "83/83 [==============================] - 11s 138ms/step - loss: 1.6233 - AUC: 0.9309 - val_loss: 1.2367 - val_AUC: 0.9601\n",
      "Epoch 61/100\n",
      "83/83 [==============================] - 11s 137ms/step - loss: 1.6236 - AUC: 0.9307 - val_loss: 1.2259 - val_AUC: 0.9616\n",
      "Epoch 62/100\n",
      "83/83 [==============================] - 12s 149ms/step - loss: 1.6054 - AUC: 0.9314 - val_loss: 1.2212 - val_AUC: 0.9605\n",
      "Epoch 63/100\n",
      "83/83 [==============================] - 12s 144ms/step - loss: 1.5999 - AUC: 0.9325 - val_loss: 1.2162 - val_AUC: 0.9618\n",
      "Epoch 64/100\n",
      "83/83 [==============================] - 11s 137ms/step - loss: 1.5934 - AUC: 0.9301 - val_loss: 1.2262 - val_AUC: 0.9616\n",
      "Epoch 65/100\n",
      "83/83 [==============================] - 11s 137ms/step - loss: 1.6113 - AUC: 0.9316 - val_loss: 1.2195 - val_AUC: 0.9613\n",
      "Epoch 66/100\n",
      "83/83 [==============================] - 12s 149ms/step - loss: 1.6066 - AUC: 0.9325 - val_loss: 1.2104 - val_AUC: 0.9612\n",
      "Epoch 67/100\n",
      "83/83 [==============================] - 11s 136ms/step - loss: 1.6053 - AUC: 0.9301 - val_loss: 1.2213 - val_AUC: 0.9601\n",
      "Epoch 68/100\n",
      "82/83 [============================>.] - ETA: 0s - loss: 1.5999 - AUC: 0.9310\n",
      "Epoch 00068: ReduceLROnPlateau reducing learning rate to 9.999999747378752e-07.\n",
      "83/83 [==============================] - 11s 137ms/step - loss: 1.6007 - AUC: 0.9309 - val_loss: 1.2134 - val_AUC: 0.9608\n",
      "Epoch 69/100\n",
      "83/83 [==============================] - 12s 148ms/step - loss: 1.5859 - AUC: 0.9339 - val_loss: 1.2103 - val_AUC: 0.9609\n",
      "Epoch 70/100\n",
      "83/83 [==============================] - 11s 138ms/step - loss: 1.5847 - AUC: 0.9322 - val_loss: 1.2086 - val_AUC: 0.9611\n",
      "Epoch 71/100\n",
      "83/83 [==============================] - 12s 143ms/step - loss: 1.5854 - AUC: 0.9319 - val_loss: 1.2086 - val_AUC: 0.9611\n",
      "Epoch 72/100\n",
      "83/83 [==============================] - 12s 150ms/step - loss: 1.5591 - AUC: 0.9354 - val_loss: 1.2059 - val_AUC: 0.9612\n",
      "Epoch 73/100\n",
      "83/83 [==============================] - 12s 143ms/step - loss: 1.5925 - AUC: 0.9307 - val_loss: 1.2063 - val_AUC: 0.9612\n",
      "Epoch 74/100\n",
      "82/83 [============================>.] - ETA: 0s - loss: 1.5767 - AUC: 0.9331\n",
      "Epoch 00074: ReduceLROnPlateau reducing learning rate to 9.999999974752428e-08.\n",
      "83/83 [==============================] - 14s 163ms/step - loss: 1.5777 - AUC: 0.9330 - val_loss: 1.2066 - val_AUC: 0.9611\n",
      "Epoch 75/100\n",
      "83/83 [==============================] - 17s 210ms/step - loss: 1.5755 - AUC: 0.9355 - val_loss: 1.2064 - val_AUC: 0.9611\n",
      "Epoch 76/100\n",
      "83/83 [==============================] - 15s 175ms/step - loss: 1.5999 - AUC: 0.9301 - val_loss: 1.2064 - val_AUC: 0.9611\n",
      "Epoch 77/100\n",
      "83/83 [==============================] - 13s 153ms/step - loss: 1.5770 - AUC: 0.9319 - val_loss: 1.2063 - val_AUC: 0.9611\n",
      "Epoch 78/100\n",
      "83/83 [==============================] - 12s 148ms/step - loss: 1.6121 - AUC: 0.9321 - val_loss: 1.2062 - val_AUC: 0.9611\n",
      "Epoch 79/100\n",
      "83/83 [==============================] - 12s 149ms/step - loss: 1.5665 - AUC: 0.9339 - val_loss: 1.2061 - val_AUC: 0.9611\n",
      "Epoch 80/100\n",
      "82/83 [============================>.] - ETA: 0s - loss: 1.5877 - AUC: 0.9318\n",
      "Epoch 00080: ReduceLROnPlateau reducing learning rate to 1.0000000116860975e-08.\n",
      "83/83 [==============================] - 12s 149ms/step - loss: 1.5867 - AUC: 0.9321 - val_loss: 1.2060 - val_AUC: 0.9612\n",
      "Epoch 81/100\n",
      "83/83 [==============================] - 12s 147ms/step - loss: 1.6103 - AUC: 0.9322 - val_loss: 1.2007 - val_AUC: 0.9612\n",
      "Epoch 82/100\n",
      "82/83 [============================>.] - ETA: 0s - loss: 1.5825 - AUC: 0.9323Restoring model weights from the end of the best epoch.\n",
      "83/83 [==============================] - 12s 148ms/step - loss: 1.5838 - AUC: 0.9321 - val_loss: 1.2107 - val_AUC: 0.9612\n",
      "Epoch 00082: early stopping\n"
     ]
    }
   ],
   "source": [
    "n_epochs   = 100\n",
    "verbose    = 1\n",
    "\n",
    "checkpoint_filepath = os.path.join('checkpoints','checkpoint')\n",
    "\n",
    "early_stop = EarlyStopping(monitor='loss', patience=10, restore_best_weights=True, verbose=verbose)\n",
    "lr_reduce  = ReduceLROnPlateau(monitor='val_AUC', min_lr=0, cooldown=2, factor=0.1, patience=5, verbose=verbose, mode='max')\n",
    "model_checkpoint_callback =ModelCheckpoint(\n",
    "    filepath=checkpoint_filepath,\n",
    "    save_weights_only=True,\n",
    "    monitor='AUC',\n",
    "    mode='max',\n",
    "    save_best_only=True,\n",
    "    save_freq='epoch')\n",
    "\n",
    "history = model.fit_generator(generator=train_generator, validation_data=validation_generator, \n",
    "                             epochs=n_epochs, callbacks=[early_stop, lr_reduce, model_checkpoint_callback],#tensorboard_callback],#, m_save],                              \n",
    "                             verbose=verbose, workers=1, use_multiprocessing=False)"
   ]
  },
  {
   "cell_type": "code",
   "execution_count": 18,
   "metadata": {},
   "outputs": [
    {
     "data": {
      "text/plain": [
       "<tensorflow.python.training.tracking.util.CheckpointLoadStatus at 0x23a5f836ec8>"
      ]
     },
     "execution_count": 18,
     "metadata": {},
     "output_type": "execute_result"
    }
   ],
   "source": [
    "model.load_weights(os.path.join('checkpoints', 'checkpoint'))"
   ]
  },
  {
   "cell_type": "code",
   "execution_count": 40,
   "metadata": {
    "scrolled": true
   },
   "outputs": [
    {
     "data": {
      "text/plain": [
       "0.9590962962962963"
      ]
     },
     "execution_count": 40,
     "metadata": {},
     "output_type": "execute_result"
    }
   ],
   "source": [
    "# check metric on test data\n",
    "\n",
    "y_true = np.zeros((len(test_generator),25))\n",
    "y_pred = np.zeros((len(test_generator),25))\n",
    "\n",
    "for i in range(len(test_generator)):\n",
    "    res = model.predict(test_generator[i])\n",
    "    y_pred[i,...] = res[0]\n",
    "    y_true[i,...] = test_generator[i][1][0]\n",
    "roc_auc_score(y_true,y_pred)"
   ]
  },
  {
   "cell_type": "markdown",
   "metadata": {},
   "source": [
    "### Предсказание"
   ]
  },
  {
   "cell_type": "code",
   "execution_count": 4,
   "metadata": {},
   "outputs": [
    {
     "name": "stdout",
     "output_type": "stream",
     "text": [
      "24022.png label: gt=17, pred=5\n"
     ]
    }
   ],
   "source": [
    "class_ = '17'\n",
    "fname = '24022.png'\n",
    "\n",
    "labels = pd.read_csv('images_labelling.csv')\n",
    "labels.head()\n",
    "\n",
    "f = {'file': open(os.path.join('images', 'test', class_, fname), 'rb')}\n",
    "gt_label = labels[labels.boxid==int(fname.split('.')[0])].label.values[0]\n",
    "r = requests.post('http://localhost:5000/predict', files=f)\n",
    "print('%s label: gt=%s, pred=%s' % (fname, str(gt_label), str(r.json()['label'])))"
   ]
  },
  {
   "cell_type": "code",
   "execution_count": null,
   "metadata": {},
   "outputs": [],
   "source": []
  }
 ],
 "metadata": {
  "kernelspec": {
   "display_name": "Python 3",
   "language": "python",
   "name": "python3"
  },
  "language_info": {
   "codemirror_mode": {
    "name": "ipython",
    "version": 3
   },
   "file_extension": ".py",
   "mimetype": "text/x-python",
   "name": "python",
   "nbconvert_exporter": "python",
   "pygments_lexer": "ipython3",
   "version": "3.7.4"
  }
 },
 "nbformat": 4,
 "nbformat_minor": 4
}
