{
 "cells": [
  {
   "cell_type": "markdown",
   "metadata": {
    "colab_type": "text",
    "id": "WDmQSHAneYFi"
   },
   "source": [
    "### Тестовое задание\n",
    "\n",
    "Исходные данные – корпус новостей с сайта Lenta.ru (https://www.kaggle.com/yutkin/corpus-of-russian-news-articles-from-lenta/). Нужно обучить классификатор новостей по рубрикам (поле topic), для чего:\n",
    "1.    Предобработать тексты и получить признаковое пространство\n",
    "2.    Выбрать модель или несколько моделей для обучения\n",
    "3.    Разделить датасет на обучающую, тестовую и контрольную выборки\n",
    "4.    Выбрать метрику для оценки результатов\n",
    "\n",
    "- Все шаги должны быть кратко откомментированы, выбор тех или иных методов, метрик, подходов – мотивирован. "
   ]
  },
  {
   "cell_type": "markdown",
   "metadata": {
    "colab_type": "text",
    "id": "Z4yVSBCHKMrw"
   },
   "source": [
    "#### 1. Load dataset"
   ]
  },
  {
   "cell_type": "code",
   "execution_count": 175,
   "metadata": {
    "colab": {
     "base_uri": "https://localhost:8080/",
     "height": 34
    },
    "colab_type": "code",
    "executionInfo": {
     "elapsed": 745,
     "status": "ok",
     "timestamp": 1570534911924,
     "user": {
      "displayName": "Oleg R.",
      "photoUrl": "",
      "userId": "05344232372270178245"
     },
     "user_tz": -180
    },
    "id": "ZDx0cKfYCkfg",
    "outputId": "df72bfc6-32fb-4574-bfab-0b0a92cfefc2"
   },
   "outputs": [
    {
     "name": "stdout",
     "output_type": "stream",
     "text": [
      "Drive already mounted at /content/gdrive; to attempt to forcibly remount, call drive.mount(\"/content/gdrive\", force_remount=True).\n"
     ]
    }
   ],
   "source": [
    "# import libs, define system path\n",
    "\n",
    "import os, gc\n",
    "import warnings\n",
    "import numpy as np\n",
    "import pandas as pd\n",
    "from sklearn.feature_extraction.text import TfidfVectorizer\n",
    "from sklearn.linear_model import SGDClassifier\n",
    "from sklearn.metrics import f1_score\n",
    "from sklearn.model_selection import RandomizedSearchCV\n",
    "import matplotlib.pyplot as plt\n",
    "\n",
    "if os.getcwd()=='/content':\n",
    "    from google.colab import drive\n",
    "    drive.mount('/content/gdrive')\n",
    "    way = '/content/gdrive/My Drive/Lenta/'\n",
    "    slash = '/'\n",
    "else:\n",
    "    way = os.getcwd() + '\\\\'\n",
    "    slash='\\\\'\n",
    "    \n",
    "warnings.filterwarnings(\"ignore\")"
   ]
  },
  {
   "cell_type": "code",
   "execution_count": 0,
   "metadata": {
    "colab": {},
    "colab_type": "code",
    "id": "6G56cUIlCkgM"
   },
   "outputs": [],
   "source": [
    "# define params \n",
    "\n",
    "required_dataset_size = 210000\n",
    "test_rate = 0.1             # 10% of all data is for test\n",
    "train_val_rate = 0.8        # 80% to 20% of rest part is for train\\val"
   ]
  },
  {
   "cell_type": "code",
   "execution_count": 0,
   "metadata": {
    "colab": {},
    "colab_type": "code",
    "id": "I4nQH0JnCkgr"
   },
   "outputs": [],
   "source": [
    "# load and clean up the data\n",
    "\n",
    "df = pd.read_csv(way + 'lenta-ru-news.csv', usecols=['text', 'topic'], nrows=required_dataset_size)\n",
    "df['topic'].fillna('Прочее', inplace=True) # fill missed topics with separate labels\n",
    "df.dropna(axis=0, inplace=True) # drop samples with empty text"
   ]
  },
  {
   "cell_type": "code",
   "execution_count": 178,
   "metadata": {
    "colab": {
     "base_uri": "https://localhost:8080/",
     "height": 403
    },
    "colab_type": "code",
    "executionInfo": {
     "elapsed": 14068,
     "status": "ok",
     "timestamp": 1570534925274,
     "user": {
      "displayName": "Oleg R.",
      "photoUrl": "",
      "userId": "05344232372270178245"
     },
     "user_tz": -180
    },
    "id": "ggyILSrzCkhR",
    "outputId": "0f75ecc2-40ff-4392-c9b4-f5b0e2e23d22"
   },
   "outputs": [
    {
     "data": {
      "text/plain": [
       "Россия               32669\n",
       "Мир                  30636\n",
       "Спорт                20788\n",
       "Силовые структуры    16619\n",
       "Бывший СССР          16260\n",
       "Экономика            14902\n",
       "Культура             13328\n",
       "Интернет и СМИ       12996\n",
       "Наука и техника      12365\n",
       "Из жизни              8738\n",
       "Ценности              7763\n",
       "Бизнес                7296\n",
       "Дом                   6795\n",
       "Путешествия           6407\n",
       "69-я параллель        1268\n",
       "Крым                   666\n",
       "Культпросвет           340\n",
       "Легпром                113\n",
       "Прочее                  38\n",
       "Библиотека               8\n",
       "Оружие                   3\n",
       "МедНовости               1\n",
       "Name: topic, dtype: int64"
      ]
     },
     "execution_count": 178,
     "metadata": {
      "tags": []
     },
     "output_type": "execute_result"
    }
   ],
   "source": [
    "# check balance of classes\n",
    "'''\n",
    "Dataset is multiclassed and highly imbalanced, metric to be used is: \n",
    "\n",
    "sklearn.metrics.f1_score with average=’micro’ parameter.\n",
    "\n",
    "'''\n",
    "df['topic'].value_counts()"
   ]
  },
  {
   "cell_type": "code",
   "execution_count": 0,
   "metadata": {
    "colab": {},
    "colab_type": "code",
    "id": "AS8OhDK2KMsC"
   },
   "outputs": [],
   "source": [
    "# change topics with <5 samples only to 'Прочее'\n",
    "\n",
    "df['topic'][df['topic'].isin(df['topic'].value_counts()[df['topic'].value_counts()<=5].index.tolist())]='Прочее'"
   ]
  },
  {
   "cell_type": "code",
   "execution_count": 180,
   "metadata": {
    "colab": {
     "base_uri": "https://localhost:8080/",
     "height": 370
    },
    "colab_type": "code",
    "executionInfo": {
     "elapsed": 14053,
     "status": "ok",
     "timestamp": 1570534925276,
     "user": {
      "displayName": "Oleg R.",
      "photoUrl": "",
      "userId": "05344232372270178245"
     },
     "user_tz": -180
    },
    "id": "DWvH7d-eKMsG",
    "outputId": "70d4e14d-853c-40e9-ba1b-23c2306a6fff"
   },
   "outputs": [
    {
     "data": {
      "text/plain": [
       "Россия               32669\n",
       "Мир                  30636\n",
       "Спорт                20788\n",
       "Силовые структуры    16619\n",
       "Бывший СССР          16260\n",
       "Экономика            14902\n",
       "Культура             13328\n",
       "Интернет и СМИ       12996\n",
       "Наука и техника      12365\n",
       "Из жизни              8738\n",
       "Ценности              7763\n",
       "Бизнес                7296\n",
       "Дом                   6795\n",
       "Путешествия           6407\n",
       "69-я параллель        1268\n",
       "Крым                   666\n",
       "Культпросвет           340\n",
       "Легпром                113\n",
       "Прочее                  42\n",
       "Библиотека               8\n",
       "Name: topic, dtype: int64"
      ]
     },
     "execution_count": 180,
     "metadata": {
      "tags": []
     },
     "output_type": "execute_result"
    }
   ],
   "source": [
    "# just check\n",
    "\n",
    "df['topic'].value_counts()"
   ]
  },
  {
   "cell_type": "code",
   "execution_count": 0,
   "metadata": {
    "colab": {},
    "colab_type": "code",
    "id": "3vSlgE_jKMsL"
   },
   "outputs": [],
   "source": [
    "# create target column\n",
    "\n",
    "df['target'] = df['topic'].map(dict(zip(df['topic'].unique(),np.arange(0, len(df['topic'].unique()))))) "
   ]
  },
  {
   "cell_type": "code",
   "execution_count": 182,
   "metadata": {
    "colab": {
     "base_uri": "https://localhost:8080/",
     "height": 195
    },
    "colab_type": "code",
    "executionInfo": {
     "elapsed": 14037,
     "status": "ok",
     "timestamp": 1570534925278,
     "user": {
      "displayName": "Oleg R.",
      "photoUrl": "",
      "userId": "05344232372270178245"
     },
     "user_tz": -180
    },
    "id": "JVr-BS59KMsP",
    "outputId": "87b87995-d6f8-4202-c2b2-4f0bac96c319"
   },
   "outputs": [
    {
     "data": {
      "text/html": [
       "<div>\n",
       "<style scoped>\n",
       "    .dataframe tbody tr th:only-of-type {\n",
       "        vertical-align: middle;\n",
       "    }\n",
       "\n",
       "    .dataframe tbody tr th {\n",
       "        vertical-align: top;\n",
       "    }\n",
       "\n",
       "    .dataframe thead th {\n",
       "        text-align: right;\n",
       "    }\n",
       "</style>\n",
       "<table border=\"1\" class=\"dataframe\">\n",
       "  <thead>\n",
       "    <tr style=\"text-align: right;\">\n",
       "      <th></th>\n",
       "      <th>text</th>\n",
       "      <th>topic</th>\n",
       "      <th>target</th>\n",
       "    </tr>\n",
       "  </thead>\n",
       "  <tbody>\n",
       "    <tr>\n",
       "      <th>0</th>\n",
       "      <td>Вице-премьер по социальным вопросам Татьяна Го...</td>\n",
       "      <td>Россия</td>\n",
       "      <td>0</td>\n",
       "    </tr>\n",
       "    <tr>\n",
       "      <th>1</th>\n",
       "      <td>Австрийские правоохранительные органы не предс...</td>\n",
       "      <td>Спорт</td>\n",
       "      <td>1</td>\n",
       "    </tr>\n",
       "    <tr>\n",
       "      <th>2</th>\n",
       "      <td>Сотрудники социальной сети Instagram проанализ...</td>\n",
       "      <td>Путешествия</td>\n",
       "      <td>2</td>\n",
       "    </tr>\n",
       "    <tr>\n",
       "      <th>3</th>\n",
       "      <td>С начала расследования российского вмешательст...</td>\n",
       "      <td>Мир</td>\n",
       "      <td>3</td>\n",
       "    </tr>\n",
       "    <tr>\n",
       "      <th>4</th>\n",
       "      <td>Хакерская группировка Anonymous опубликовала н...</td>\n",
       "      <td>Мир</td>\n",
       "      <td>3</td>\n",
       "    </tr>\n",
       "  </tbody>\n",
       "</table>\n",
       "</div>"
      ],
      "text/plain": [
       "                                                text        topic  target\n",
       "0  Вице-премьер по социальным вопросам Татьяна Го...       Россия       0\n",
       "1  Австрийские правоохранительные органы не предс...        Спорт       1\n",
       "2  Сотрудники социальной сети Instagram проанализ...  Путешествия       2\n",
       "3  С начала расследования российского вмешательст...          Мир       3\n",
       "4  Хакерская группировка Anonymous опубликовала н...          Мир       3"
      ]
     },
     "execution_count": 182,
     "metadata": {
      "tags": []
     },
     "output_type": "execute_result"
    }
   ],
   "source": [
    "df.head()"
   ]
  },
  {
   "cell_type": "markdown",
   "metadata": {
    "colab_type": "text",
    "id": "BBbRxWH1KMsU"
   },
   "source": [
    "#### 2. Split data to train, validation and test sets"
   ]
  },
  {
   "cell_type": "code",
   "execution_count": 183,
   "metadata": {
    "colab": {
     "base_uri": "https://localhost:8080/",
     "height": 34
    },
    "colab_type": "code",
    "executionInfo": {
     "elapsed": 14621,
     "status": "ok",
     "timestamp": 1570534925872,
     "user": {
      "displayName": "Oleg R.",
      "photoUrl": "",
      "userId": "05344232372270178245"
     },
     "user_tz": -180
    },
    "id": "7T7ujRZrCkhx",
    "outputId": "8c9e604c-6e2d-43b4-d8da-fca4a9a7c738"
   },
   "outputs": [
    {
     "data": {
      "text/plain": [
       "(151200, 37800, 20999)"
      ]
     },
     "execution_count": 183,
     "metadata": {
      "tags": []
     },
     "output_type": "execute_result"
    }
   ],
   "source": [
    "indices=np.arange(len(df))\n",
    "\n",
    "np.random.shuffle(indices)\n",
    "\n",
    "tt_split = np.int(len(indices)*test_rate)\n",
    "tt_indices = indices[tt_split:]\n",
    "test_indices = indices[:tt_split]\n",
    "\n",
    "tv_split = np.int(len(tt_indices)*train_val_rate)\n",
    "val_indices = tt_indices[tv_split:]\n",
    "train_indices = tt_indices[:tv_split]\n",
    "\n",
    "X_train=df['text'].values[train_indices]\n",
    "X_val=df['text'].values[val_indices]\n",
    "X_test=df['text'].values[test_indices]\n",
    "\n",
    "y_train=df['target'].values[train_indices]\n",
    "y_val=df['target'].values[val_indices]\n",
    "y_test=df['target'].values[test_indices]\n",
    "\n",
    "len(X_train), len(X_val), len(X_test)"
   ]
  },
  {
   "cell_type": "markdown",
   "metadata": {
    "colab_type": "text",
    "id": "_U9fvySFKMsZ"
   },
   "source": [
    "#### 3. Vectorize samples (= get feature matrix)"
   ]
  },
  {
   "cell_type": "code",
   "execution_count": 184,
   "metadata": {
    "colab": {
     "base_uri": "https://localhost:8080/",
     "height": 34
    },
    "colab_type": "code",
    "executionInfo": {
     "elapsed": 55960,
     "status": "ok",
     "timestamp": 1570534967223,
     "user": {
      "displayName": "Oleg R.",
      "photoUrl": "",
      "userId": "05344232372270178245"
     },
     "user_tz": -180
    },
    "id": "FB6iPdxwKMsb",
    "outputId": "656b87c9-d914-4be2-abe7-1754b072e21d"
   },
   "outputs": [
    {
     "data": {
      "text/plain": [
       "((151200, 480056), (20999, 480056), (37800, 480056))"
      ]
     },
     "execution_count": 184,
     "metadata": {
      "tags": []
     },
     "output_type": "execute_result"
    }
   ],
   "source": [
    "''' \n",
    "two actions here:\n",
    "    - count each word appearances in all train samples -> to sparce matrix \n",
    "    - transform each word count to its frequency in document\n",
    "Can be done separately with CountVectorizer() and then with TfidfTransformer(), but TfidfVectorizer() make it all-in-one \n",
    "''' \n",
    "\n",
    "vectorizer = TfidfVectorizer()\n",
    "X_train_v = vectorizer.fit_transform(X_train)\n",
    "X_test_v = vectorizer.transform(X_test)\n",
    "X_val_v = vectorizer.transform(X_val)\n",
    "\n",
    "X_train_v.shape, X_test_v.shape, X_val_v.shape"
   ]
  },
  {
   "cell_type": "markdown",
   "metadata": {
    "colab_type": "text",
    "id": "7UcS9C3XKMsf"
   },
   "source": [
    "#### 4. Model selection and test"
   ]
  },
  {
   "cell_type": "code",
   "execution_count": 185,
   "metadata": {
    "colab": {
     "base_uri": "https://localhost:8080/",
     "height": 118
    },
    "colab_type": "code",
    "executionInfo": {
     "elapsed": 77198,
     "status": "ok",
     "timestamp": 1570534988473,
     "user": {
      "displayName": "Oleg R.",
      "photoUrl": "",
      "userId": "05344232372270178245"
     },
     "user_tz": -180
    },
    "id": "5JncMHf1Ckiy",
    "outputId": "9bd2b9ce-7a01-4386-ccb5-f011a54234b9"
   },
   "outputs": [
    {
     "data": {
      "text/plain": [
       "SGDClassifier(alpha=0.0001, average=False, class_weight='balanced',\n",
       "              early_stopping=False, epsilon=0.1, eta0=0.0, fit_intercept=True,\n",
       "              l1_ratio=0.15, learning_rate='optimal', loss='log', max_iter=5,\n",
       "              n_iter_no_change=5, n_jobs=None, penalty='l2', power_t=0.5,\n",
       "              random_state=24, shuffle=True, tol=0.001, validation_fraction=0.1,\n",
       "              verbose=0, warm_start=False)"
      ]
     },
     "execution_count": 185,
     "metadata": {
      "tags": []
     },
     "output_type": "execute_result"
    }
   ],
   "source": [
    "'''\n",
    "Options: neural network, tree/random forest or logistic regression.\n",
    "\n",
    "For this particular case (limited time for task completion and >1e6 features in dataset) logistic regression \n",
    "is the most suitable model because of: fast fit, minimum params to tune. \n",
    "'''\n",
    "# define classifier instance, fix max_iter=5 \n",
    "\n",
    "news_clf = SGDClassifier(loss='log', penalty='l2', random_state=24, \n",
    "              max_iter=5, class_weight='balanced')\n",
    "news_clf.fit(X_train_v, y_train)"
   ]
  },
  {
   "cell_type": "code",
   "execution_count": 186,
   "metadata": {
    "colab": {
     "base_uri": "https://localhost:8080/",
     "height": 34
    },
    "colab_type": "code",
    "executionInfo": {
     "elapsed": 77424,
     "status": "ok",
     "timestamp": 1570534988709,
     "user": {
      "displayName": "Oleg R.",
      "photoUrl": "",
      "userId": "05344232372270178245"
     },
     "user_tz": -180
    },
    "id": "vW6oSchbKMsm",
    "outputId": "4436df11-8118-489e-eead-2d0928ef6f9e"
   },
   "outputs": [
    {
     "name": "stdout",
     "output_type": "stream",
     "text": [
      "Validation set score with default parameters (=baseline): 0.7622\n"
     ]
    }
   ],
   "source": [
    "# fit model with default params, this will be baseline\n",
    "\n",
    "y_pred = news_clf.predict(X_val_v)\n",
    "baseline = f1_score(y_val, y_pred, average='micro')\n",
    "\n",
    "print('Validation set score with default parameters (=baseline): %2.4f' % baseline) "
   ]
  },
  {
   "cell_type": "markdown",
   "metadata": {
    "colab_type": "text",
    "id": "yrDI3u2nKMss"
   },
   "source": [
    "#### 5. Model tuning\n",
    "\n",
    "Take validation score as baseline. "
   ]
  },
  {
   "cell_type": "markdown",
   "metadata": {
    "colab_type": "text",
    "id": "8egea6oxKMst"
   },
   "source": [
    "##### 5.1. Parameters tuning"
   ]
  },
  {
   "cell_type": "code",
   "execution_count": 0,
   "metadata": {
    "colab": {},
    "colab_type": "code",
    "id": "DlTiqlzwKMsu"
   },
   "outputs": [],
   "source": [
    "# set space of tunable params. Learning rate calculated automatically in SGDClassifier so not included here\n",
    "\n",
    "param_grid = {\n",
    "                'penalty': ['l1', 'l2'],\n",
    "                'alpha' : np.logspace(-8 , -4, 10)\n",
    "                                                        } "
   ]
  },
  {
   "cell_type": "code",
   "execution_count": 188,
   "metadata": {
    "colab": {
     "base_uri": "https://localhost:8080/",
     "height": 84
    },
    "colab_type": "code",
    "executionInfo": {
     "elapsed": 1101447,
     "status": "ok",
     "timestamp": 1570536012751,
     "user": {
      "displayName": "Oleg R.",
      "photoUrl": "",
      "userId": "05344232372270178245"
     },
     "user_tz": -180
    },
    "id": "tC7VqYA-Ckjw",
    "outputId": "7fb39619-e118-47b3-f35a-8b3c3729b23b"
   },
   "outputs": [
    {
     "name": "stdout",
     "output_type": "stream",
     "text": [
      "Fitting 5 folds for each of 8 candidates, totalling 40 fits\n"
     ]
    },
    {
     "name": "stderr",
     "output_type": "stream",
     "text": [
      "[Parallel(n_jobs=-1)]: Using backend LokyBackend with 2 concurrent workers.\n",
      "[Parallel(n_jobs=-1)]: Done  40 out of  40 | elapsed: 16.7min finished\n"
     ]
    },
    {
     "name": "stdout",
     "output_type": "stream",
     "text": [
      "Best score on cross-validation is: 0.8507\n"
     ]
    }
   ],
   "source": [
    "# no need validation data at the moment as cross-validation used\n",
    "\n",
    "cv_score = RandomizedSearchCV(news_clf, param_grid, n_iter=8, scoring='f1_micro', \n",
    "                              n_jobs=-1, cv=5, verbose=1, random_state=24)\n",
    "cv_score.fit(X_train_v, y_train)\n",
    "\n",
    "print('Best score on cross-validation is: %2.4f' % cv_score.best_score_)"
   ]
  },
  {
   "cell_type": "code",
   "execution_count": 189,
   "metadata": {
    "colab": {
     "base_uri": "https://localhost:8080/",
     "height": 34
    },
    "colab_type": "code",
    "executionInfo": {
     "elapsed": 1101438,
     "status": "ok",
     "timestamp": 1570536012752,
     "user": {
      "displayName": "Oleg R.",
      "photoUrl": "",
      "userId": "05344232372270178245"
     },
     "user_tz": -180
    },
    "id": "ADP4eQiBKMs3",
    "outputId": "ad2545cf-c304-46cd-f0f3-e1aa7748882b"
   },
   "outputs": [
    {
     "data": {
      "text/plain": [
       "{'alpha': 5.994842503189409e-07, 'penalty': 'l2'}"
      ]
     },
     "execution_count": 189,
     "metadata": {
      "tags": []
     },
     "output_type": "execute_result"
    }
   ],
   "source": [
    "# best parameters found\n",
    "\n",
    "cv_score.best_params_"
   ]
  },
  {
   "cell_type": "code",
   "execution_count": 0,
   "metadata": {
    "colab": {},
    "colab_type": "code",
    "id": "icfUZVv5KMs9"
   },
   "outputs": [],
   "source": [
    "# best classifier\n",
    "\n",
    "Lenta_clf = cv_score.best_estimator_"
   ]
  },
  {
   "cell_type": "code",
   "execution_count": 191,
   "metadata": {
    "colab": {
     "base_uri": "https://localhost:8080/",
     "height": 50
    },
    "colab_type": "code",
    "executionInfo": {
     "elapsed": 1101903,
     "status": "ok",
     "timestamp": 1570536013233,
     "user": {
      "displayName": "Oleg R.",
      "photoUrl": "",
      "userId": "05344232372270178245"
     },
     "user_tz": -180
    },
    "id": "VJ7FwKyhKMtC",
    "outputId": "b6f29076-fc44-45e2-9c51-83af364620af"
   },
   "outputs": [
    {
     "name": "stdout",
     "output_type": "stream",
     "text": [
      "Validation set score before tuning: 0.7622\n",
      "Validation set score after tuning: 0.8534\n"
     ]
    }
   ],
   "source": [
    "# check score on validation set, compare with baseline\n",
    "\n",
    "y_pred = Lenta_clf.predict(X_val_v)\n",
    "score = f1_score(y_val, y_pred, average='micro')\n",
    "\n",
    "print('Validation set score before tuning: %2.4f' % baseline) \n",
    "print('Validation set score after tuning: %2.4f' % score) "
   ]
  },
  {
   "cell_type": "markdown",
   "metadata": {
    "colab_type": "text",
    "id": "bVLSVLnrVRD5"
   },
   "source": [
    "##### 5.2 Tuning of max_iter"
   ]
  },
  {
   "cell_type": "code",
   "execution_count": 195,
   "metadata": {
    "colab": {
     "base_uri": "https://localhost:8080/",
     "height": 612
    },
    "colab_type": "code",
    "executionInfo": {
     "elapsed": 1260,
     "status": "ok",
     "timestamp": 1570536787277,
     "user": {
      "displayName": "Oleg R.",
      "photoUrl": "",
      "userId": "05344232372270178245"
     },
     "user_tz": -180
    },
    "id": "XdS-38SJKMtR",
    "outputId": "b655f079-f1aa-4209-ea4e-99299334051b"
   },
   "outputs": [
    {
     "name": "stdout",
     "output_type": "stream",
     "text": [
      "Best \"max_iter\" value is: 8, best validation accuracy is: 0.8553\n"
     ]
    },
    {
     "data": {
      "image/png": "[encoded data removed]",
      "text/plain": [
       "<Figure size 1440x720 with 1 Axes>"
      ]
     },
     "metadata": {
      "tags": []
     },
     "output_type": "display_data"
    }
   ],
   "source": [
    "# increment max_iter by 1 and sind best validation score \n",
    "\n",
    "train_history = []\n",
    "val_history = []\n",
    "\n",
    "for max_iter in range(2, 15, 1):\n",
    "  Lenta_clf.max_iter=max_iter \n",
    "  Lenta_clf.fit(X_train_v, y_train)  \n",
    "\n",
    "  y_train_pred = Lenta_clf.predict(X_train_v)    \n",
    "  train_score = f1_score(y_train, y_train_pred, average='micro') \n",
    "  train_history.append(train_score)\n",
    "\n",
    "  y_val_pred = Lenta_clf.predict(X_val_v)    \n",
    "  val_score = f1_score(y_val, y_val_pred, average='micro') \n",
    "  val_history.append(val_score)\n",
    "\n",
    "  # print('Ep.%i, train acc.=%2.4f, val acc.=%2.4f' %  (max_iter, train_score, val_score))\n",
    "\n",
    "val_array = np.array(val_history)\n",
    "\n",
    "best_iter = np.argmax(val_array)+2\n",
    "\n",
    "plt.figure(figsize=(20,10))\n",
    "plt.plot(train_history)\n",
    "plt.plot(val_history)\n",
    "plt.legend(('Train accuracy', 'Val accuracy'));\n",
    "\n",
    "print('Best \"max_iter\" value is: %i, best validation accuracy is: %2.4f' % (best_iter, max(val_array)))"
   ]
  },
  {
   "cell_type": "markdown",
   "metadata": {
    "colab_type": "text",
    "id": "S5OrhfcbVL5n"
   },
   "source": [
    "#### 6. Result on the test set"
   ]
  },
  {
   "cell_type": "code",
   "execution_count": 0,
   "metadata": {
    "colab": {},
    "colab_type": "code",
    "id": "4OqPWJ6mCksi"
   },
   "outputs": [],
   "source": [
    "# set classifier max_iter to optimum value\n",
    "\n",
    "Lenta_clf.max_iter = best_iter    "
   ]
  },
  {
   "cell_type": "code",
   "execution_count": 194,
   "metadata": {
    "colab": {
     "base_uri": "https://localhost:8080/",
     "height": 34
    },
    "colab_type": "code",
    "executionInfo": {
     "elapsed": 1574822,
     "status": "ok",
     "timestamp": 1570536486185,
     "user": {
      "displayName": "Oleg R.",
      "photoUrl": "",
      "userId": "05344232372270178245"
     },
     "user_tz": -180
    },
    "id": "Ujs3ml-dCk2Y",
    "outputId": "7c7e0799-471b-448f-c007-ce19627dac3b"
   },
   "outputs": [
    {
     "name": "stdout",
     "output_type": "stream",
     "text": [
      "Final score on the test set: 0.8562\n"
     ]
    }
   ],
   "source": [
    "# predict test set\n",
    "\n",
    "Lenta_clf.fit(X_train_v, y_train)    \n",
    "y_pred = Lenta_clf.predict(X_test_v)\n",
    "score = f1_score(y_test, y_pred, average='micro')\n",
    "\n",
    "print('Final score on the test set: %2.4f' % score)"
   ]
  }
 ],
 "metadata": {
  "colab": {
   "collapsed_sections": [],
   "name": "News classifier r2.ipynb",
   "provenance": []
  },
  "kernelspec": {
   "display_name": "Python 3",
   "language": "python",
   "name": "python3"
  },
  "language_info": {
   "codemirror_mode": {
    "name": "ipython",
    "version": 3
   },
   "file_extension": ".py",
   "mimetype": "text/x-python",
   "name": "python",
   "nbconvert_exporter": "python",
   "pygments_lexer": "ipython3",
   "version": "3.7.4"
  }
 },
 "nbformat": 4,
 "nbformat_minor": 1
}
